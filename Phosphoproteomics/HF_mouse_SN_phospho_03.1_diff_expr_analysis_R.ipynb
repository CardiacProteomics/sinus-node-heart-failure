{
 "cells": [
  {
   "cell_type": "markdown",
   "metadata": {},
   "source": [
    "# Differential expression analysis of TMT labeled phosphoproteome data using Limma's moderated t-test\n",
    "## searched with MaxQuant v.1.6.10.43 with unitprot reviewed mouse DB, without isoforms, with PIF cutoff (0.75) and iBAQ calculation enabled"
   ]
  },
  {
   "cell_type": "markdown",
   "metadata": {},
   "source": [
    "### Author: Konstantin Kahnert\n",
    "### Date: 2020_09_15"
   ]
  },
  {
   "cell_type": "markdown",
   "metadata": {},
   "source": [
    "After the initial data processing and anlysis, we continue with the differential expression protein analysis.  \n",
    "In this script we will:\n",
    "\n",
    "- use the moderated t-test of the limma package to determine significantly differentially expressed proteins"
   ]
  },
  {
   "cell_type": "markdown",
   "metadata": {},
   "source": [
    "## Load required libraries"
   ]
  },
  {
   "cell_type": "code",
   "execution_count": 1,
   "metadata": {},
   "outputs": [],
   "source": [
    "library(limma)\n",
    "library(qvalue)\n",
    "library(stringr)"
   ]
  },
  {
   "cell_type": "markdown",
   "metadata": {},
   "source": [
    "## Load function from Kammers et al. 2015 (\"Detecting significant changes in protein abundance\", doi: 10.1016/j.euprot.2015.02.002)"
   ]
  },
  {
   "cell_type": "code",
   "execution_count": 2,
   "metadata": {},
   "outputs": [],
   "source": [
    "source(\"http://www.biostat.jhsph.edu/~kkammers/software/eupa/source.functions.r\")"
   ]
  },
  {
   "cell_type": "markdown",
   "metadata": {},
   "source": [
    "## Load data"
   ]
  },
  {
   "cell_type": "code",
   "execution_count": 7,
   "metadata": {},
   "outputs": [
    {
     "data": {
      "text/html": [
       "<table>\n",
       "<caption>A data.frame: 6 × 37</caption>\n",
       "<thead>\n",
       "\t<tr><th></th><th scope=col>X</th><th scope=col>Sham.1</th><th scope=col>Sham.2</th><th scope=col>Sham.3</th><th scope=col>Sham.4</th><th scope=col>Sham.5</th><th scope=col>TAC.1</th><th scope=col>TAC.2</th><th scope=col>TAC.3</th><th scope=col>TAC.4</th><th scope=col>...</th><th scope=col>Leading.proteins</th><th scope=col>Protein</th><th scope=col>Protein.names</th><th scope=col>Gene.names</th><th scope=col>Sequence.window</th><th scope=col>Modification.window</th><th scope=col>Phospho..STY..Probabilities</th><th scope=col>id</th><th scope=col>Unique.identifier</th><th scope=col>Number.of.Phospho..STY.</th></tr>\n",
       "\t<tr><th></th><th scope=col>&lt;int&gt;</th><th scope=col>&lt;dbl&gt;</th><th scope=col>&lt;dbl&gt;</th><th scope=col>&lt;dbl&gt;</th><th scope=col>&lt;dbl&gt;</th><th scope=col>&lt;dbl&gt;</th><th scope=col>&lt;dbl&gt;</th><th scope=col>&lt;dbl&gt;</th><th scope=col>&lt;dbl&gt;</th><th scope=col>&lt;dbl&gt;</th><th scope=col>...</th><th scope=col>&lt;fct&gt;</th><th scope=col>&lt;fct&gt;</th><th scope=col>&lt;fct&gt;</th><th scope=col>&lt;fct&gt;</th><th scope=col>&lt;fct&gt;</th><th scope=col>&lt;fct&gt;</th><th scope=col>&lt;fct&gt;</th><th scope=col>&lt;int&gt;</th><th scope=col>&lt;fct&gt;</th><th scope=col>&lt;fct&gt;</th></tr>\n",
       "</thead>\n",
       "<tbody>\n",
       "\t<tr><th scope=row>1</th><td>0</td><td> 1.2758870</td><td> 1.5161991</td><td> 1.11567307</td><td> 1.36297417</td><td> 1.12616396</td><td> 1.83795445</td><td> 1.26019757</td><td> 1.77124398</td><td> 1.4231714</td><td>...</td><td>P0DPB4</td><td>P0DPB4</td><td>                                                           </td><td>Schip1 </td><td>DADDSKTETSLDTPLSPMSKQSSSYSDRDTT</td><td>X;X;X;X;X;X;X;X;X;X;X;X;X;X;X;Phospho (STY);X;Oxidation (M);X;X;X;X;X;X;X;X;X;X;X;X;X</td><td>TETSLDT(0.001)PLS(0.995)PMS(0.005)K       </td><td>1</td><td>UID2 </td><td>1</td></tr>\n",
       "\t<tr><th scope=row>2</th><td>1</td><td> 0.5615010</td><td>-0.1484661</td><td> 0.26981735</td><td>-0.01501656</td><td>-0.08783102</td><td>-0.28256371</td><td>-0.19146969</td><td> 0.20337532</td><td>-0.2246704</td><td>...</td><td>A2A5R2</td><td>A2A5R2</td><td>Brefeldin A-inhibited guanine nucleotide-exchange protein 2</td><td>Arfgef2</td><td>GKVSLENGEAPRERGSPVSGRAEPSRGTDSG</td><td>X;X;X;Phospho (STY);X;X;X;X;X;X;X;X;X;X;X;Phospho (STY);X;X;X;X;X;X;X;X;X;X;X;X;X;X;X</td><td>GS(1)PVSGR                                </td><td>3</td><td>UID4 </td><td>1</td></tr>\n",
       "\t<tr><th scope=row>3</th><td>2</td><td> 0.2646632</td><td> 0.6021538</td><td> 0.32192802</td><td> 0.17565060</td><td> 0.08780527</td><td>-0.26602795</td><td>-0.18258335</td><td>-0.11225273</td><td> 0.1168785</td><td>...</td><td>A2A5R2</td><td>A2A5R2</td><td>Brefeldin A-inhibited guanine nucleotide-exchange protein 2</td><td>Arfgef2</td><td>MQSKPQSPVIQATAGSPKFSRLKQSQAQSKP</td><td>X;X;X;X;X;X;X;X;X;X;X;X;X;X;X;Phospho (STY);X;X;X;X;X;X;X;X;X;X;X;X;X;X;X            </td><td>PQSPVIQAT(0.025)AGS(0.975)PK              </td><td>6</td><td>UID7 </td><td>1</td></tr>\n",
       "\t<tr><th scope=row>4</th><td>3</td><td>-0.2172036</td><td>-0.3231421</td><td>-0.16507435</td><td> 0.20213127</td><td>-0.52896166</td><td> 0.04375790</td><td>-0.28870823</td><td>-0.14638474</td><td>-0.4428320</td><td>...</td><td>A2A5R2</td><td>A2A5R2</td><td>Brefeldin A-inhibited guanine nucleotide-exchange protein 2</td><td>Arfgef2</td><td>NSQTNGIADDRQSLSSADNLEPDVQGHQVAA</td><td>X;X;X;X;X;X;X;X;X;X;X;X;X;X;X;Phospho (STY);X;X;X;X;X;X;X;X;X;X;X;X;X;X;X            </td><td>QS(0.002)LS(0.117)S(0.881)ADNLEPDVQGHQVAAR</td><td>7</td><td>UID8 </td><td>1</td></tr>\n",
       "\t<tr><th scope=row>5</th><td>4</td><td> 0.1961770</td><td> 0.3714314</td><td> 0.06090355</td><td> 0.06591034</td><td> 0.16198969</td><td>-0.01508953</td><td>-0.01365902</td><td>-0.03784039</td><td> 0.2103109</td><td>...</td><td>A2A5R2</td><td>A2A5R2</td><td>Brefeldin A-inhibited guanine nucleotide-exchange protein 2</td><td>Arfgef2</td><td>ELPNGDHAQSGLGKVSLENGEAPRERGSPVS</td><td>X;X;X;X;X;X;X;X;X;X;X;X;X;X;X;Phospho (STY);X;X;X;X;X;X;X;X;X;X;X;Phospho (STY);X;X;X</td><td>VS(1)LENGEAPR                             </td><td>8</td><td>UID9 </td><td>1</td></tr>\n",
       "\t<tr><th scope=row>6</th><td>5</td><td>-1.1972442</td><td>-1.3334780</td><td>-1.44691372</td><td>-1.50280857</td><td>-1.13325167</td><td>-1.75674315</td><td>-1.99431392</td><td>-2.00980922</td><td>-1.6390268</td><td>...</td><td>A2A690</td><td>A2A690</td><td>Protein TANC2                                              </td><td>Tanc2  </td><td>GSHQVFDFRSNSSVGSPTRQGYQSTSPALSP</td><td>X;X;X;X;X;X;X;X;X;X;X;X;X;X;X;Phospho (STY);X;X;X;X;X;X;X;X;X;X;X;X;X;X;X            </td><td>SNSSVGS(0.999)PT(0.001)R                  </td><td>9</td><td>UID10</td><td>1</td></tr>\n",
       "</tbody>\n",
       "</table>\n"
      ],
      "text/latex": [
       "A data.frame: 6 × 37\n",
       "\\begin{tabular}{r|lllllllllllllllllllll}\n",
       "  & X & Sham.1 & Sham.2 & Sham.3 & Sham.4 & Sham.5 & TAC.1 & TAC.2 & TAC.3 & TAC.4 & ... & Leading.proteins & Protein & Protein.names & Gene.names & Sequence.window & Modification.window & Phospho..STY..Probabilities & id & Unique.identifier & Number.of.Phospho..STY.\\\\\n",
       "  & <int> & <dbl> & <dbl> & <dbl> & <dbl> & <dbl> & <dbl> & <dbl> & <dbl> & <dbl> & ... & <fct> & <fct> & <fct> & <fct> & <fct> & <fct> & <fct> & <int> & <fct> & <fct>\\\\\n",
       "\\hline\n",
       "\t1 & 0 &  1.2758870 &  1.5161991 &  1.11567307 &  1.36297417 &  1.12616396 &  1.83795445 &  1.26019757 &  1.77124398 &  1.4231714 & ... & P0DPB4 & P0DPB4 &                                                             & Schip1  & DADDSKTETSLDTPLSPMSKQSSSYSDRDTT & X;X;X;X;X;X;X;X;X;X;X;X;X;X;X;Phospho (STY);X;Oxidation (M);X;X;X;X;X;X;X;X;X;X;X;X;X & TETSLDT(0.001)PLS(0.995)PMS(0.005)K        & 1 & UID2  & 1\\\\\n",
       "\t2 & 1 &  0.5615010 & -0.1484661 &  0.26981735 & -0.01501656 & -0.08783102 & -0.28256371 & -0.19146969 &  0.20337532 & -0.2246704 & ... & A2A5R2 & A2A5R2 & Brefeldin A-inhibited guanine nucleotide-exchange protein 2 & Arfgef2 & GKVSLENGEAPRERGSPVSGRAEPSRGTDSG & X;X;X;Phospho (STY);X;X;X;X;X;X;X;X;X;X;X;Phospho (STY);X;X;X;X;X;X;X;X;X;X;X;X;X;X;X & GS(1)PVSGR                                 & 3 & UID4  & 1\\\\\n",
       "\t3 & 2 &  0.2646632 &  0.6021538 &  0.32192802 &  0.17565060 &  0.08780527 & -0.26602795 & -0.18258335 & -0.11225273 &  0.1168785 & ... & A2A5R2 & A2A5R2 & Brefeldin A-inhibited guanine nucleotide-exchange protein 2 & Arfgef2 & MQSKPQSPVIQATAGSPKFSRLKQSQAQSKP & X;X;X;X;X;X;X;X;X;X;X;X;X;X;X;Phospho (STY);X;X;X;X;X;X;X;X;X;X;X;X;X;X;X             & PQSPVIQAT(0.025)AGS(0.975)PK               & 6 & UID7  & 1\\\\\n",
       "\t4 & 3 & -0.2172036 & -0.3231421 & -0.16507435 &  0.20213127 & -0.52896166 &  0.04375790 & -0.28870823 & -0.14638474 & -0.4428320 & ... & A2A5R2 & A2A5R2 & Brefeldin A-inhibited guanine nucleotide-exchange protein 2 & Arfgef2 & NSQTNGIADDRQSLSSADNLEPDVQGHQVAA & X;X;X;X;X;X;X;X;X;X;X;X;X;X;X;Phospho (STY);X;X;X;X;X;X;X;X;X;X;X;X;X;X;X             & QS(0.002)LS(0.117)S(0.881)ADNLEPDVQGHQVAAR & 7 & UID8  & 1\\\\\n",
       "\t5 & 4 &  0.1961770 &  0.3714314 &  0.06090355 &  0.06591034 &  0.16198969 & -0.01508953 & -0.01365902 & -0.03784039 &  0.2103109 & ... & A2A5R2 & A2A5R2 & Brefeldin A-inhibited guanine nucleotide-exchange protein 2 & Arfgef2 & ELPNGDHAQSGLGKVSLENGEAPRERGSPVS & X;X;X;X;X;X;X;X;X;X;X;X;X;X;X;Phospho (STY);X;X;X;X;X;X;X;X;X;X;X;Phospho (STY);X;X;X & VS(1)LENGEAPR                              & 8 & UID9  & 1\\\\\n",
       "\t6 & 5 & -1.1972442 & -1.3334780 & -1.44691372 & -1.50280857 & -1.13325167 & -1.75674315 & -1.99431392 & -2.00980922 & -1.6390268 & ... & A2A690 & A2A690 & Protein TANC2                                               & Tanc2   & GSHQVFDFRSNSSVGSPTRQGYQSTSPALSP & X;X;X;X;X;X;X;X;X;X;X;X;X;X;X;Phospho (STY);X;X;X;X;X;X;X;X;X;X;X;X;X;X;X             & SNSSVGS(0.999)PT(0.001)R                   & 9 & UID10 & 1\\\\\n",
       "\\end{tabular}\n"
      ],
      "text/markdown": [
       "\n",
       "A data.frame: 6 × 37\n",
       "\n",
       "| <!--/--> | X &lt;int&gt; | Sham.1 &lt;dbl&gt; | Sham.2 &lt;dbl&gt; | Sham.3 &lt;dbl&gt; | Sham.4 &lt;dbl&gt; | Sham.5 &lt;dbl&gt; | TAC.1 &lt;dbl&gt; | TAC.2 &lt;dbl&gt; | TAC.3 &lt;dbl&gt; | TAC.4 &lt;dbl&gt; | ... ... | Leading.proteins &lt;fct&gt; | Protein &lt;fct&gt; | Protein.names &lt;fct&gt; | Gene.names &lt;fct&gt; | Sequence.window &lt;fct&gt; | Modification.window &lt;fct&gt; | Phospho..STY..Probabilities &lt;fct&gt; | id &lt;int&gt; | Unique.identifier &lt;fct&gt; | Number.of.Phospho..STY. &lt;fct&gt; |\n",
       "|---|---|---|---|---|---|---|---|---|---|---|---|---|---|---|---|---|---|---|---|---|---|\n",
       "| 1 | 0 |  1.2758870 |  1.5161991 |  1.11567307 |  1.36297417 |  1.12616396 |  1.83795445 |  1.26019757 |  1.77124398 |  1.4231714 | ... | P0DPB4 | P0DPB4 | <!----> | Schip1  | DADDSKTETSLDTPLSPMSKQSSSYSDRDTT | X;X;X;X;X;X;X;X;X;X;X;X;X;X;X;Phospho (STY);X;Oxidation (M);X;X;X;X;X;X;X;X;X;X;X;X;X | TETSLDT(0.001)PLS(0.995)PMS(0.005)K        | 1 | UID2  | 1 |\n",
       "| 2 | 1 |  0.5615010 | -0.1484661 |  0.26981735 | -0.01501656 | -0.08783102 | -0.28256371 | -0.19146969 |  0.20337532 | -0.2246704 | ... | A2A5R2 | A2A5R2 | Brefeldin A-inhibited guanine nucleotide-exchange protein 2 | Arfgef2 | GKVSLENGEAPRERGSPVSGRAEPSRGTDSG | X;X;X;Phospho (STY);X;X;X;X;X;X;X;X;X;X;X;Phospho (STY);X;X;X;X;X;X;X;X;X;X;X;X;X;X;X | GS(1)PVSGR                                 | 3 | UID4  | 1 |\n",
       "| 3 | 2 |  0.2646632 |  0.6021538 |  0.32192802 |  0.17565060 |  0.08780527 | -0.26602795 | -0.18258335 | -0.11225273 |  0.1168785 | ... | A2A5R2 | A2A5R2 | Brefeldin A-inhibited guanine nucleotide-exchange protein 2 | Arfgef2 | MQSKPQSPVIQATAGSPKFSRLKQSQAQSKP | X;X;X;X;X;X;X;X;X;X;X;X;X;X;X;Phospho (STY);X;X;X;X;X;X;X;X;X;X;X;X;X;X;X             | PQSPVIQAT(0.025)AGS(0.975)PK               | 6 | UID7  | 1 |\n",
       "| 4 | 3 | -0.2172036 | -0.3231421 | -0.16507435 |  0.20213127 | -0.52896166 |  0.04375790 | -0.28870823 | -0.14638474 | -0.4428320 | ... | A2A5R2 | A2A5R2 | Brefeldin A-inhibited guanine nucleotide-exchange protein 2 | Arfgef2 | NSQTNGIADDRQSLSSADNLEPDVQGHQVAA | X;X;X;X;X;X;X;X;X;X;X;X;X;X;X;Phospho (STY);X;X;X;X;X;X;X;X;X;X;X;X;X;X;X             | QS(0.002)LS(0.117)S(0.881)ADNLEPDVQGHQVAAR | 7 | UID8  | 1 |\n",
       "| 5 | 4 |  0.1961770 |  0.3714314 |  0.06090355 |  0.06591034 |  0.16198969 | -0.01508953 | -0.01365902 | -0.03784039 |  0.2103109 | ... | A2A5R2 | A2A5R2 | Brefeldin A-inhibited guanine nucleotide-exchange protein 2 | Arfgef2 | ELPNGDHAQSGLGKVSLENGEAPRERGSPVS | X;X;X;X;X;X;X;X;X;X;X;X;X;X;X;Phospho (STY);X;X;X;X;X;X;X;X;X;X;X;Phospho (STY);X;X;X | VS(1)LENGEAPR                              | 8 | UID9  | 1 |\n",
       "| 6 | 5 | -1.1972442 | -1.3334780 | -1.44691372 | -1.50280857 | -1.13325167 | -1.75674315 | -1.99431392 | -2.00980922 | -1.6390268 | ... | A2A690 | A2A690 | Protein TANC2                                               | Tanc2   | GSHQVFDFRSNSSVGSPTRQGYQSTSPALSP | X;X;X;X;X;X;X;X;X;X;X;X;X;X;X;Phospho (STY);X;X;X;X;X;X;X;X;X;X;X;X;X;X;X             | SNSSVGS(0.999)PT(0.001)R                   | 9 | UID10 | 1 |\n",
       "\n"
      ],
      "text/plain": [
       "  X Sham.1     Sham.2     Sham.3      Sham.4      Sham.5      TAC.1      \n",
       "1 0  1.2758870  1.5161991  1.11567307  1.36297417  1.12616396  1.83795445\n",
       "2 1  0.5615010 -0.1484661  0.26981735 -0.01501656 -0.08783102 -0.28256371\n",
       "3 2  0.2646632  0.6021538  0.32192802  0.17565060  0.08780527 -0.26602795\n",
       "4 3 -0.2172036 -0.3231421 -0.16507435  0.20213127 -0.52896166  0.04375790\n",
       "5 4  0.1961770  0.3714314  0.06090355  0.06591034  0.16198969 -0.01508953\n",
       "6 5 -1.1972442 -1.3334780 -1.44691372 -1.50280857 -1.13325167 -1.75674315\n",
       "  TAC.2       TAC.3       TAC.4      ... Leading.proteins Protein\n",
       "1  1.26019757  1.77124398  1.4231714 ... P0DPB4           P0DPB4 \n",
       "2 -0.19146969  0.20337532 -0.2246704 ... A2A5R2           A2A5R2 \n",
       "3 -0.18258335 -0.11225273  0.1168785 ... A2A5R2           A2A5R2 \n",
       "4 -0.28870823 -0.14638474 -0.4428320 ... A2A5R2           A2A5R2 \n",
       "5 -0.01365902 -0.03784039  0.2103109 ... A2A5R2           A2A5R2 \n",
       "6 -1.99431392 -2.00980922 -1.6390268 ... A2A690           A2A690 \n",
       "  Protein.names                                               Gene.names\n",
       "1                                                             Schip1    \n",
       "2 Brefeldin A-inhibited guanine nucleotide-exchange protein 2 Arfgef2   \n",
       "3 Brefeldin A-inhibited guanine nucleotide-exchange protein 2 Arfgef2   \n",
       "4 Brefeldin A-inhibited guanine nucleotide-exchange protein 2 Arfgef2   \n",
       "5 Brefeldin A-inhibited guanine nucleotide-exchange protein 2 Arfgef2   \n",
       "6 Protein TANC2                                               Tanc2     \n",
       "  Sequence.window                \n",
       "1 DADDSKTETSLDTPLSPMSKQSSSYSDRDTT\n",
       "2 GKVSLENGEAPRERGSPVSGRAEPSRGTDSG\n",
       "3 MQSKPQSPVIQATAGSPKFSRLKQSQAQSKP\n",
       "4 NSQTNGIADDRQSLSSADNLEPDVQGHQVAA\n",
       "5 ELPNGDHAQSGLGKVSLENGEAPRERGSPVS\n",
       "6 GSHQVFDFRSNSSVGSPTRQGYQSTSPALSP\n",
       "  Modification.window                                                                  \n",
       "1 X;X;X;X;X;X;X;X;X;X;X;X;X;X;X;Phospho (STY);X;Oxidation (M);X;X;X;X;X;X;X;X;X;X;X;X;X\n",
       "2 X;X;X;Phospho (STY);X;X;X;X;X;X;X;X;X;X;X;Phospho (STY);X;X;X;X;X;X;X;X;X;X;X;X;X;X;X\n",
       "3 X;X;X;X;X;X;X;X;X;X;X;X;X;X;X;Phospho (STY);X;X;X;X;X;X;X;X;X;X;X;X;X;X;X            \n",
       "4 X;X;X;X;X;X;X;X;X;X;X;X;X;X;X;Phospho (STY);X;X;X;X;X;X;X;X;X;X;X;X;X;X;X            \n",
       "5 X;X;X;X;X;X;X;X;X;X;X;X;X;X;X;Phospho (STY);X;X;X;X;X;X;X;X;X;X;X;Phospho (STY);X;X;X\n",
       "6 X;X;X;X;X;X;X;X;X;X;X;X;X;X;X;Phospho (STY);X;X;X;X;X;X;X;X;X;X;X;X;X;X;X            \n",
       "  Phospho..STY..Probabilities                id Unique.identifier\n",
       "1 TETSLDT(0.001)PLS(0.995)PMS(0.005)K        1  UID2             \n",
       "2 GS(1)PVSGR                                 3  UID4             \n",
       "3 PQSPVIQAT(0.025)AGS(0.975)PK               6  UID7             \n",
       "4 QS(0.002)LS(0.117)S(0.881)ADNLEPDVQGHQVAAR 7  UID8             \n",
       "5 VS(1)LENGEAPR                              8  UID9             \n",
       "6 SNSSVGS(0.999)PT(0.001)R                   9  UID10            \n",
       "  Number.of.Phospho..STY.\n",
       "1 1                      \n",
       "2 1                      \n",
       "3 1                      \n",
       "4 1                      \n",
       "5 1                      \n",
       "6 1                      "
      ]
     },
     "metadata": {},
     "output_type": "display_data"
    }
   ],
   "source": [
    "path_input <- file.path(\"E:/Data/Heart_failure_mice_CS/Sinus_node/Phosphoproteome/Analysis/\",\n",
    "                        \"03_volcano_plot_analysis/phosphosites(STY)_proteome_ratio_norm.csv\")\n",
    "\n",
    "data_raw <- read.csv(path_input)\n",
    "head(data_raw)"
   ]
  },
  {
   "cell_type": "markdown",
   "metadata": {},
   "source": [
    "## Define treatment and control groups for two group comparison, assuming 5 cases and 5 controls\n"
   ]
  },
  {
   "cell_type": "code",
   "execution_count": 8,
   "metadata": {},
   "outputs": [],
   "source": [
    "ct <- c(\"Sham.1\", \"Sham.2\", \"Sham.3\", \"Sham.4\", \"Sham.5\")\n",
    "tr <- c(\"TAC.1\", \"TAC.2\", \"TAC.3\", \"TAC.4\", \"TAC.5\")"
   ]
  },
  {
   "cell_type": "markdown",
   "metadata": {},
   "source": [
    "## Define design according to syntax of limma package"
   ]
  },
  {
   "cell_type": "code",
   "execution_count": 9,
   "metadata": {},
   "outputs": [
    {
     "data": {
      "text/html": [
       "<table>\n",
       "<caption>A matrix: 10 × 2 of type dbl</caption>\n",
       "<thead>\n",
       "\t<tr><th></th><th scope=col>Intercept</th><th scope=col>Diff</th></tr>\n",
       "</thead>\n",
       "<tbody>\n",
       "\t<tr><th scope=row>1</th><td>1</td><td>0</td></tr>\n",
       "\t<tr><th scope=row>2</th><td>1</td><td>0</td></tr>\n",
       "\t<tr><th scope=row>3</th><td>1</td><td>0</td></tr>\n",
       "\t<tr><th scope=row>4</th><td>1</td><td>0</td></tr>\n",
       "\t<tr><th scope=row>5</th><td>1</td><td>0</td></tr>\n",
       "\t<tr><th scope=row>6</th><td>1</td><td>1</td></tr>\n",
       "\t<tr><th scope=row>7</th><td>1</td><td>1</td></tr>\n",
       "\t<tr><th scope=row>8</th><td>1</td><td>1</td></tr>\n",
       "\t<tr><th scope=row>9</th><td>1</td><td>1</td></tr>\n",
       "\t<tr><th scope=row>10</th><td>1</td><td>1</td></tr>\n",
       "</tbody>\n",
       "</table>\n"
      ],
      "text/latex": [
       "A matrix: 10 × 2 of type dbl\n",
       "\\begin{tabular}{r|ll}\n",
       "  & Intercept & Diff\\\\\n",
       "\\hline\n",
       "\t1 & 1 & 0\\\\\n",
       "\t2 & 1 & 0\\\\\n",
       "\t3 & 1 & 0\\\\\n",
       "\t4 & 1 & 0\\\\\n",
       "\t5 & 1 & 0\\\\\n",
       "\t6 & 1 & 1\\\\\n",
       "\t7 & 1 & 1\\\\\n",
       "\t8 & 1 & 1\\\\\n",
       "\t9 & 1 & 1\\\\\n",
       "\t10 & 1 & 1\\\\\n",
       "\\end{tabular}\n"
      ],
      "text/markdown": [
       "\n",
       "A matrix: 10 × 2 of type dbl\n",
       "\n",
       "| <!--/--> | Intercept | Diff |\n",
       "|---|---|---|\n",
       "| 1 | 1 | 0 |\n",
       "| 2 | 1 | 0 |\n",
       "| 3 | 1 | 0 |\n",
       "| 4 | 1 | 0 |\n",
       "| 5 | 1 | 0 |\n",
       "| 6 | 1 | 1 |\n",
       "| 7 | 1 | 1 |\n",
       "| 8 | 1 | 1 |\n",
       "| 9 | 1 | 1 |\n",
       "| 10 | 1 | 1 |\n",
       "\n"
      ],
      "text/plain": [
       "   Intercept Diff\n",
       "1  1         0   \n",
       "2  1         0   \n",
       "3  1         0   \n",
       "4  1         0   \n",
       "5  1         0   \n",
       "6  1         1   \n",
       "7  1         1   \n",
       "8  1         1   \n",
       "9  1         1   \n",
       "10 1         1   "
      ]
     },
     "metadata": {},
     "output_type": "display_data"
    }
   ],
   "source": [
    "design <- model.matrix(~factor(c(1,1,1,1,1,2,2,2,2,2))) # first five samples control, next five case\n",
    "\n",
    "colnames(design) <- c(\"Intercept\", \"Diff\")\n",
    "design"
   ]
  },
  {
   "cell_type": "markdown",
   "metadata": {},
   "source": [
    "## Fit linear model and determine differentially expressed proteins"
   ]
  },
  {
   "cell_type": "code",
   "execution_count": 10,
   "metadata": {},
   "outputs": [
    {
     "data": {
      "text/html": [
       "<table>\n",
       "<caption>A data.frame: 6 × 12</caption>\n",
       "<thead>\n",
       "\t<tr><th></th><th scope=col>logFC</th><th scope=col>t.ord</th><th scope=col>t.mod</th><th scope=col>p.ord</th><th scope=col>p.mod</th><th scope=col>q.ord</th><th scope=col>q.mod</th><th scope=col>df.r</th><th scope=col>df.0</th><th scope=col>s2.0</th><th scope=col>s2</th><th scope=col>s2.post</th></tr>\n",
       "\t<tr><th></th><th scope=col>&lt;dbl&gt;</th><th scope=col>&lt;dbl&gt;</th><th scope=col>&lt;dbl&gt;</th><th scope=col>&lt;dbl&gt;</th><th scope=col>&lt;dbl&gt;</th><th scope=col>&lt;dbl&gt;</th><th scope=col>&lt;dbl&gt;</th><th scope=col>&lt;int&gt;</th><th scope=col>&lt;dbl&gt;</th><th scope=col>&lt;dbl&gt;</th><th scope=col>&lt;dbl&gt;</th><th scope=col>&lt;dbl&gt;</th></tr>\n",
       "</thead>\n",
       "<tbody>\n",
       "\t<tr><th scope=row>3219</th><td> 1.1237802</td><td> 16.48609</td><td> 14.13049</td><td>1.848888e-07</td><td>2.481667e-08</td><td>0.0001524347</td><td>3.884254e-05</td><td>8</td><td>2.855463</td><td>0.02756714</td><td>0.011616291</td><td>0.015812064</td></tr>\n",
       "\t<tr><th scope=row>2721</th><td> 0.8363079</td><td> 26.64550</td><td> 13.88739</td><td>4.233577e-09</td><td>2.968921e-08</td><td>0.0000113339</td><td>3.884254e-05</td><td>8</td><td>2.855463</td><td>0.02756714</td><td>0.002462775</td><td>0.009066324</td></tr>\n",
       "\t<tr><th scope=row>279</th><td> 1.0087722</td><td> 16.05056</td><td> 13.23262</td><td>2.277571e-07</td><td>4.881636e-08</td><td>0.0001524347</td><td>4.257778e-05</td><td>8</td><td>2.855463</td><td>0.02756714</td><td>0.009875197</td><td>0.014528954</td></tr>\n",
       "\t<tr><th scope=row>2153</th><td> 1.2284616</td><td> 11.96051</td><td> 11.88993</td><td>2.198397e-06</td><td>1.455094e-07</td><td>0.0004527252</td><td>9.518533e-05</td><td>8</td><td>2.855463</td><td>0.02756714</td><td>0.026373269</td><td>0.026687309</td></tr>\n",
       "\t<tr><th scope=row>1142</th><td>-0.9113841</td><td>-13.70572</td><td>-11.61284</td><td>7.740601e-07</td><td>1.847475e-07</td><td>0.0002302523</td><td>9.668242e-05</td><td>8</td><td>2.855463</td><td>0.02756714</td><td>0.011054501</td><td>0.015398049</td></tr>\n",
       "\t<tr><th scope=row>3101</th><td> 0.7883774</td><td> 15.51185</td><td> 11.37430</td><td>2.970022e-07</td><td>2.278087e-07</td><td>0.0001590236</td><td>9.934774e-05</td><td>8</td><td>2.855463</td><td>0.02756714</td><td>0.006457752</td><td>0.012010447</td></tr>\n",
       "</tbody>\n",
       "</table>\n"
      ],
      "text/latex": [
       "A data.frame: 6 × 12\n",
       "\\begin{tabular}{r|llllllllllll}\n",
       "  & logFC & t.ord & t.mod & p.ord & p.mod & q.ord & q.mod & df.r & df.0 & s2.0 & s2 & s2.post\\\\\n",
       "  & <dbl> & <dbl> & <dbl> & <dbl> & <dbl> & <dbl> & <dbl> & <int> & <dbl> & <dbl> & <dbl> & <dbl>\\\\\n",
       "\\hline\n",
       "\t3219 &  1.1237802 &  16.48609 &  14.13049 & 1.848888e-07 & 2.481667e-08 & 0.0001524347 & 3.884254e-05 & 8 & 2.855463 & 0.02756714 & 0.011616291 & 0.015812064\\\\\n",
       "\t2721 &  0.8363079 &  26.64550 &  13.88739 & 4.233577e-09 & 2.968921e-08 & 0.0000113339 & 3.884254e-05 & 8 & 2.855463 & 0.02756714 & 0.002462775 & 0.009066324\\\\\n",
       "\t279 &  1.0087722 &  16.05056 &  13.23262 & 2.277571e-07 & 4.881636e-08 & 0.0001524347 & 4.257778e-05 & 8 & 2.855463 & 0.02756714 & 0.009875197 & 0.014528954\\\\\n",
       "\t2153 &  1.2284616 &  11.96051 &  11.88993 & 2.198397e-06 & 1.455094e-07 & 0.0004527252 & 9.518533e-05 & 8 & 2.855463 & 0.02756714 & 0.026373269 & 0.026687309\\\\\n",
       "\t1142 & -0.9113841 & -13.70572 & -11.61284 & 7.740601e-07 & 1.847475e-07 & 0.0002302523 & 9.668242e-05 & 8 & 2.855463 & 0.02756714 & 0.011054501 & 0.015398049\\\\\n",
       "\t3101 &  0.7883774 &  15.51185 &  11.37430 & 2.970022e-07 & 2.278087e-07 & 0.0001590236 & 9.934774e-05 & 8 & 2.855463 & 0.02756714 & 0.006457752 & 0.012010447\\\\\n",
       "\\end{tabular}\n"
      ],
      "text/markdown": [
       "\n",
       "A data.frame: 6 × 12\n",
       "\n",
       "| <!--/--> | logFC &lt;dbl&gt; | t.ord &lt;dbl&gt; | t.mod &lt;dbl&gt; | p.ord &lt;dbl&gt; | p.mod &lt;dbl&gt; | q.ord &lt;dbl&gt; | q.mod &lt;dbl&gt; | df.r &lt;int&gt; | df.0 &lt;dbl&gt; | s2.0 &lt;dbl&gt; | s2 &lt;dbl&gt; | s2.post &lt;dbl&gt; |\n",
       "|---|---|---|---|---|---|---|---|---|---|---|---|---|\n",
       "| 3219 |  1.1237802 |  16.48609 |  14.13049 | 1.848888e-07 | 2.481667e-08 | 0.0001524347 | 3.884254e-05 | 8 | 2.855463 | 0.02756714 | 0.011616291 | 0.015812064 |\n",
       "| 2721 |  0.8363079 |  26.64550 |  13.88739 | 4.233577e-09 | 2.968921e-08 | 0.0000113339 | 3.884254e-05 | 8 | 2.855463 | 0.02756714 | 0.002462775 | 0.009066324 |\n",
       "| 279 |  1.0087722 |  16.05056 |  13.23262 | 2.277571e-07 | 4.881636e-08 | 0.0001524347 | 4.257778e-05 | 8 | 2.855463 | 0.02756714 | 0.009875197 | 0.014528954 |\n",
       "| 2153 |  1.2284616 |  11.96051 |  11.88993 | 2.198397e-06 | 1.455094e-07 | 0.0004527252 | 9.518533e-05 | 8 | 2.855463 | 0.02756714 | 0.026373269 | 0.026687309 |\n",
       "| 1142 | -0.9113841 | -13.70572 | -11.61284 | 7.740601e-07 | 1.847475e-07 | 0.0002302523 | 9.668242e-05 | 8 | 2.855463 | 0.02756714 | 0.011054501 | 0.015398049 |\n",
       "| 3101 |  0.7883774 |  15.51185 |  11.37430 | 2.970022e-07 | 2.278087e-07 | 0.0001590236 | 9.934774e-05 | 8 | 2.855463 | 0.02756714 | 0.006457752 | 0.012010447 |\n",
       "\n"
      ],
      "text/plain": [
       "     logFC      t.ord     t.mod     p.ord        p.mod        q.ord       \n",
       "3219  1.1237802  16.48609  14.13049 1.848888e-07 2.481667e-08 0.0001524347\n",
       "2721  0.8363079  26.64550  13.88739 4.233577e-09 2.968921e-08 0.0000113339\n",
       "279   1.0087722  16.05056  13.23262 2.277571e-07 4.881636e-08 0.0001524347\n",
       "2153  1.2284616  11.96051  11.88993 2.198397e-06 1.455094e-07 0.0004527252\n",
       "1142 -0.9113841 -13.70572 -11.61284 7.740601e-07 1.847475e-07 0.0002302523\n",
       "3101  0.7883774  15.51185  11.37430 2.970022e-07 2.278087e-07 0.0001590236\n",
       "     q.mod        df.r df.0     s2.0       s2          s2.post    \n",
       "3219 3.884254e-05 8    2.855463 0.02756714 0.011616291 0.015812064\n",
       "2721 3.884254e-05 8    2.855463 0.02756714 0.002462775 0.009066324\n",
       "279  4.257778e-05 8    2.855463 0.02756714 0.009875197 0.014528954\n",
       "2153 9.518533e-05 8    2.855463 0.02756714 0.026373269 0.026687309\n",
       "1142 9.668242e-05 8    2.855463 0.02756714 0.011054501 0.015398049\n",
       "3101 9.934774e-05 8    2.855463 0.02756714 0.006457752 0.012010447"
      ]
     },
     "metadata": {},
     "output_type": "display_data"
    }
   ],
   "source": [
    "res.eb <- eb.fit(data_raw[, c(ct, tr)], design)\n",
    "head(res.eb)"
   ]
  },
  {
   "cell_type": "markdown",
   "metadata": {},
   "source": [
    "## Plot volcano plots for ordinary and moderated p-values"
   ]
  },
  {
   "cell_type": "code",
   "execution_count": 11,
   "metadata": {},
   "outputs": [
    {
     "data": {
      "image/png": "[encoded data removed]",
      "text/plain": [
       "Plot with title \"Volcano plot of moderated p-values\""
      ]
     },
     "metadata": {
      "image/png": {
       "height": 420,
       "width": 420
      }
     },
     "output_type": "display_data"
    }
   ],
   "source": [
    "rx <- c(-1, 1)*max(abs(res.eb$logFC))*1.1\n",
    "ry <- c(0, ceiling(max(-log10(res.eb$p.ord), -log10(res.eb$p.mod))))\n",
    "\n",
    "par(mfrow=c(1,2), font.lab=2, cex.lab=1.2, font.axis=2, cex.axis=1.2)\n",
    "par(las=1, xaxs=\"i\", yaxs=\"i\")\n",
    "\n",
    "# ordinary p-values\n",
    "plot(res.eb$logFC, -log10(res.eb$p.ord), pch=20, bg=\"black\", cex=0.9, \n",
    "     xlim=rx, ylim=ry, xaxt=\"n\",\n",
    "     xlab=\"fold change\", ylab=\"-log10  p-value\")\n",
    "abline(h=1.88515, col=\"red\", lty=\"dashed\",lwd=2)\n",
    "abline(v=c(-0.58496, 0.58496), col=\"red\", lty=\"dashed\",lwd=2)\n",
    "axis(1, seq(-2,2,1), paste(c(\"1/4\",\"1/2\",\"1/1\",\"2/1\",\"4/1\")))\n",
    "title(\"Volcano plot of ordinary p-values\")\n",
    "\n",
    "# moderated p-values\n",
    "plot(res.eb$logFC, -log10(res.eb$p.mod), pch=20, bg=\"black\", cex=0.9,\n",
    "     xlim=rx, ylim=ry, xaxt=\"n\",\n",
    "     xlab=\"fold change\", ylab=\"-log10  p-value\")\n",
    "abline(h=1.7504, col=\"red\", lty=\"dashed\", lwd=2)\n",
    "abline(v=c(-0.58496, 0.58496), col=\"red\", lty=\"dashed\",lwd=2)\n",
    "axis(1, seq(-2,2,1), paste(c(\"1/4\",\"1/2\",\"1/1\",\"2/1\",\"4/1\")))\n",
    "title(\"Volcano plot of moderated p-values\")\n"
   ]
  },
  {
   "cell_type": "markdown",
   "metadata": {},
   "source": [
    "## Sort dataframes by index\n"
   ]
  },
  {
   "cell_type": "code",
   "execution_count": 12,
   "metadata": {},
   "outputs": [],
   "source": [
    "res.eb$index <- as.numeric(row.names(res.eb))\n",
    "res.eb <- res.eb[order(res.eb$index), ]\n",
    "\n",
    "data_raw$index <- as.numeric(row.names(data_raw))\n",
    "data_raw <- data_raw[order(data_raw$index), ]"
   ]
  },
  {
   "cell_type": "markdown",
   "metadata": {},
   "source": [
    "## Combine dataframes"
   ]
  },
  {
   "cell_type": "code",
   "execution_count": 13,
   "metadata": {},
   "outputs": [
    {
     "data": {
      "text/html": [
       "<table>\n",
       "<caption>A data.frame: 6 × 50</caption>\n",
       "<thead>\n",
       "\t<tr><th></th><th scope=col>index</th><th scope=col>logFC</th><th scope=col>t.ord</th><th scope=col>t.mod</th><th scope=col>p.ord</th><th scope=col>p.mod</th><th scope=col>q.ord</th><th scope=col>q.mod</th><th scope=col>df.r</th><th scope=col>df.0</th><th scope=col>...</th><th scope=col>Leading.proteins</th><th scope=col>Protein</th><th scope=col>Protein.names</th><th scope=col>Gene.names</th><th scope=col>Sequence.window</th><th scope=col>Modification.window</th><th scope=col>Phospho..STY..Probabilities</th><th scope=col>id</th><th scope=col>Unique.identifier</th><th scope=col>Number.of.Phospho..STY.</th></tr>\n",
       "\t<tr><th></th><th scope=col>&lt;dbl&gt;</th><th scope=col>&lt;dbl&gt;</th><th scope=col>&lt;dbl&gt;</th><th scope=col>&lt;dbl&gt;</th><th scope=col>&lt;dbl&gt;</th><th scope=col>&lt;dbl&gt;</th><th scope=col>&lt;dbl&gt;</th><th scope=col>&lt;dbl&gt;</th><th scope=col>&lt;int&gt;</th><th scope=col>&lt;dbl&gt;</th><th scope=col>...</th><th scope=col>&lt;fct&gt;</th><th scope=col>&lt;fct&gt;</th><th scope=col>&lt;fct&gt;</th><th scope=col>&lt;fct&gt;</th><th scope=col>&lt;fct&gt;</th><th scope=col>&lt;fct&gt;</th><th scope=col>&lt;fct&gt;</th><th scope=col>&lt;int&gt;</th><th scope=col>&lt;fct&gt;</th><th scope=col>&lt;fct&gt;</th></tr>\n",
       "</thead>\n",
       "<tbody>\n",
       "\t<tr><th scope=row>1</th><td>1</td><td> 0.35840933</td><td> 2.4536543</td><td> 2.6262256</td><td>0.0397097738</td><td>0.0237975073</td><td>0.07486536</td><td>0.05219512</td><td>8</td><td>2.855463</td><td>...</td><td>P0DPB4</td><td>P0DPB4</td><td>                                                           </td><td>Schip1 </td><td>DADDSKTETSLDTPLSPMSKQSSSYSDRDTT</td><td>X;X;X;X;X;X;X;X;X;X;X;X;X;X;X;Phospho (STY);X;Oxidation (M);X;X;X;X;X;X;X;X;X;X;X;X;X</td><td>TETSLDT(0.001)PLS(0.995)PMS(0.005)K       </td><td>1</td><td>UID2 </td><td>1</td></tr>\n",
       "\t<tr><th scope=row>2</th><td>2</td><td>-0.19408896</td><td>-1.1815819</td><td>-1.2858060</td><td>0.2713022147</td><td>0.2252614846</td><td>0.22775646</td><td>0.19752725</td><td>8</td><td>2.855463</td><td>...</td><td>A2A5R2</td><td>A2A5R2</td><td>Brefeldin A-inhibited guanine nucleotide-exchange protein 2</td><td>Arfgef2</td><td>GKVSLENGEAPRERGSPVSGRAEPSRGTDSG</td><td>X;X;X;Phospho (STY);X;X;X;X;X;X;X;X;X;X;X;Phospho (STY);X;X;X;X;X;X;X;X;X;X;X;X;X;X;X</td><td>GS(1)PVSGR                                </td><td>3</td><td>UID4 </td><td>1</td></tr>\n",
       "\t<tr><th scope=row>3</th><td>3</td><td>-0.43222677</td><td>-3.8421477</td><td>-3.9088732</td><td>0.0049321397</td><td>0.0025001036</td><td>0.02433047</td><td>0.01507326</td><td>8</td><td>2.855463</td><td>...</td><td>A2A5R2</td><td>A2A5R2</td><td>Brefeldin A-inhibited guanine nucleotide-exchange protein 2</td><td>Arfgef2</td><td>MQSKPQSPVIQATAGSPKFSRLKQSQAQSKP</td><td>X;X;X;X;X;X;X;X;X;X;X;X;X;X;X;Phospho (STY);X;X;X;X;X;X;X;X;X;X;X;X;X;X;X            </td><td>PQSPVIQAT(0.025)AGS(0.975)PK              </td><td>6</td><td>UID7 </td><td>1</td></tr>\n",
       "\t<tr><th scope=row>4</th><td>4</td><td> 0.09177683</td><td> 0.5336853</td><td> 0.5840263</td><td>0.6080642201</td><td>0.5711390153</td><td>0.35537371</td><td>0.33392388</td><td>8</td><td>2.855463</td><td>...</td><td>A2A5R2</td><td>A2A5R2</td><td>Brefeldin A-inhibited guanine nucleotide-exchange protein 2</td><td>Arfgef2</td><td>NSQTNGIADDRQSLSSADNLEPDVQGHQVAA</td><td>X;X;X;X;X;X;X;X;X;X;X;X;X;X;X;Phospho (STY);X;X;X;X;X;X;X;X;X;X;X;X;X;X;X            </td><td>QS(0.002)LS(0.117)S(0.881)ADNLEPDVQGHQVAAR</td><td>7</td><td>UID8 </td><td>1</td></tr>\n",
       "\t<tr><th scope=row>5</th><td>5</td><td>-0.08194429</td><td>-0.9104564</td><td>-0.8700578</td><td>0.3891897809</td><td>0.4030980300</td><td>0.27710570</td><td>0.27431732</td><td>8</td><td>2.855463</td><td>...</td><td>A2A5R2</td><td>A2A5R2</td><td>Brefeldin A-inhibited guanine nucleotide-exchange protein 2</td><td>Arfgef2</td><td>ELPNGDHAQSGLGKVSLENGEAPRERGSPVS</td><td>X;X;X;X;X;X;X;X;X;X;X;X;X;X;X;Phospho (STY);X;X;X;X;X;X;X;X;X;X;X;Phospho (STY);X;X;X</td><td>VS(1)LENGEAPR                             </td><td>8</td><td>UID9 </td><td>1</td></tr>\n",
       "\t<tr><th scope=row>6</th><td>6</td><td>-0.51339913</td><td>-5.0957354</td><td>-5.0388548</td><td>0.0009347616</td><td>0.0003943557</td><td>0.01012876</td><td>0.00579705</td><td>8</td><td>2.855463</td><td>...</td><td>A2A690</td><td>A2A690</td><td>Protein TANC2                                              </td><td>Tanc2  </td><td>GSHQVFDFRSNSSVGSPTRQGYQSTSPALSP</td><td>X;X;X;X;X;X;X;X;X;X;X;X;X;X;X;Phospho (STY);X;X;X;X;X;X;X;X;X;X;X;X;X;X;X            </td><td>SNSSVGS(0.999)PT(0.001)R                  </td><td>9</td><td>UID10</td><td>1</td></tr>\n",
       "</tbody>\n",
       "</table>\n"
      ],
      "text/latex": [
       "A data.frame: 6 × 50\n",
       "\\begin{tabular}{r|lllllllllllllllllllll}\n",
       "  & index & logFC & t.ord & t.mod & p.ord & p.mod & q.ord & q.mod & df.r & df.0 & ... & Leading.proteins & Protein & Protein.names & Gene.names & Sequence.window & Modification.window & Phospho..STY..Probabilities & id & Unique.identifier & Number.of.Phospho..STY.\\\\\n",
       "  & <dbl> & <dbl> & <dbl> & <dbl> & <dbl> & <dbl> & <dbl> & <dbl> & <int> & <dbl> & ... & <fct> & <fct> & <fct> & <fct> & <fct> & <fct> & <fct> & <int> & <fct> & <fct>\\\\\n",
       "\\hline\n",
       "\t1 & 1 &  0.35840933 &  2.4536543 &  2.6262256 & 0.0397097738 & 0.0237975073 & 0.07486536 & 0.05219512 & 8 & 2.855463 & ... & P0DPB4 & P0DPB4 &                                                             & Schip1  & DADDSKTETSLDTPLSPMSKQSSSYSDRDTT & X;X;X;X;X;X;X;X;X;X;X;X;X;X;X;Phospho (STY);X;Oxidation (M);X;X;X;X;X;X;X;X;X;X;X;X;X & TETSLDT(0.001)PLS(0.995)PMS(0.005)K        & 1 & UID2  & 1\\\\\n",
       "\t2 & 2 & -0.19408896 & -1.1815819 & -1.2858060 & 0.2713022147 & 0.2252614846 & 0.22775646 & 0.19752725 & 8 & 2.855463 & ... & A2A5R2 & A2A5R2 & Brefeldin A-inhibited guanine nucleotide-exchange protein 2 & Arfgef2 & GKVSLENGEAPRERGSPVSGRAEPSRGTDSG & X;X;X;Phospho (STY);X;X;X;X;X;X;X;X;X;X;X;Phospho (STY);X;X;X;X;X;X;X;X;X;X;X;X;X;X;X & GS(1)PVSGR                                 & 3 & UID4  & 1\\\\\n",
       "\t3 & 3 & -0.43222677 & -3.8421477 & -3.9088732 & 0.0049321397 & 0.0025001036 & 0.02433047 & 0.01507326 & 8 & 2.855463 & ... & A2A5R2 & A2A5R2 & Brefeldin A-inhibited guanine nucleotide-exchange protein 2 & Arfgef2 & MQSKPQSPVIQATAGSPKFSRLKQSQAQSKP & X;X;X;X;X;X;X;X;X;X;X;X;X;X;X;Phospho (STY);X;X;X;X;X;X;X;X;X;X;X;X;X;X;X             & PQSPVIQAT(0.025)AGS(0.975)PK               & 6 & UID7  & 1\\\\\n",
       "\t4 & 4 &  0.09177683 &  0.5336853 &  0.5840263 & 0.6080642201 & 0.5711390153 & 0.35537371 & 0.33392388 & 8 & 2.855463 & ... & A2A5R2 & A2A5R2 & Brefeldin A-inhibited guanine nucleotide-exchange protein 2 & Arfgef2 & NSQTNGIADDRQSLSSADNLEPDVQGHQVAA & X;X;X;X;X;X;X;X;X;X;X;X;X;X;X;Phospho (STY);X;X;X;X;X;X;X;X;X;X;X;X;X;X;X             & QS(0.002)LS(0.117)S(0.881)ADNLEPDVQGHQVAAR & 7 & UID8  & 1\\\\\n",
       "\t5 & 5 & -0.08194429 & -0.9104564 & -0.8700578 & 0.3891897809 & 0.4030980300 & 0.27710570 & 0.27431732 & 8 & 2.855463 & ... & A2A5R2 & A2A5R2 & Brefeldin A-inhibited guanine nucleotide-exchange protein 2 & Arfgef2 & ELPNGDHAQSGLGKVSLENGEAPRERGSPVS & X;X;X;X;X;X;X;X;X;X;X;X;X;X;X;Phospho (STY);X;X;X;X;X;X;X;X;X;X;X;Phospho (STY);X;X;X & VS(1)LENGEAPR                              & 8 & UID9  & 1\\\\\n",
       "\t6 & 6 & -0.51339913 & -5.0957354 & -5.0388548 & 0.0009347616 & 0.0003943557 & 0.01012876 & 0.00579705 & 8 & 2.855463 & ... & A2A690 & A2A690 & Protein TANC2                                               & Tanc2   & GSHQVFDFRSNSSVGSPTRQGYQSTSPALSP & X;X;X;X;X;X;X;X;X;X;X;X;X;X;X;Phospho (STY);X;X;X;X;X;X;X;X;X;X;X;X;X;X;X             & SNSSVGS(0.999)PT(0.001)R                   & 9 & UID10 & 1\\\\\n",
       "\\end{tabular}\n"
      ],
      "text/markdown": [
       "\n",
       "A data.frame: 6 × 50\n",
       "\n",
       "| <!--/--> | index &lt;dbl&gt; | logFC &lt;dbl&gt; | t.ord &lt;dbl&gt; | t.mod &lt;dbl&gt; | p.ord &lt;dbl&gt; | p.mod &lt;dbl&gt; | q.ord &lt;dbl&gt; | q.mod &lt;dbl&gt; | df.r &lt;int&gt; | df.0 &lt;dbl&gt; | ... ... | Leading.proteins &lt;fct&gt; | Protein &lt;fct&gt; | Protein.names &lt;fct&gt; | Gene.names &lt;fct&gt; | Sequence.window &lt;fct&gt; | Modification.window &lt;fct&gt; | Phospho..STY..Probabilities &lt;fct&gt; | id &lt;int&gt; | Unique.identifier &lt;fct&gt; | Number.of.Phospho..STY. &lt;fct&gt; |\n",
       "|---|---|---|---|---|---|---|---|---|---|---|---|---|---|---|---|---|---|---|---|---|---|\n",
       "| 1 | 1 |  0.35840933 |  2.4536543 |  2.6262256 | 0.0397097738 | 0.0237975073 | 0.07486536 | 0.05219512 | 8 | 2.855463 | ... | P0DPB4 | P0DPB4 | <!----> | Schip1  | DADDSKTETSLDTPLSPMSKQSSSYSDRDTT | X;X;X;X;X;X;X;X;X;X;X;X;X;X;X;Phospho (STY);X;Oxidation (M);X;X;X;X;X;X;X;X;X;X;X;X;X | TETSLDT(0.001)PLS(0.995)PMS(0.005)K        | 1 | UID2  | 1 |\n",
       "| 2 | 2 | -0.19408896 | -1.1815819 | -1.2858060 | 0.2713022147 | 0.2252614846 | 0.22775646 | 0.19752725 | 8 | 2.855463 | ... | A2A5R2 | A2A5R2 | Brefeldin A-inhibited guanine nucleotide-exchange protein 2 | Arfgef2 | GKVSLENGEAPRERGSPVSGRAEPSRGTDSG | X;X;X;Phospho (STY);X;X;X;X;X;X;X;X;X;X;X;Phospho (STY);X;X;X;X;X;X;X;X;X;X;X;X;X;X;X | GS(1)PVSGR                                 | 3 | UID4  | 1 |\n",
       "| 3 | 3 | -0.43222677 | -3.8421477 | -3.9088732 | 0.0049321397 | 0.0025001036 | 0.02433047 | 0.01507326 | 8 | 2.855463 | ... | A2A5R2 | A2A5R2 | Brefeldin A-inhibited guanine nucleotide-exchange protein 2 | Arfgef2 | MQSKPQSPVIQATAGSPKFSRLKQSQAQSKP | X;X;X;X;X;X;X;X;X;X;X;X;X;X;X;Phospho (STY);X;X;X;X;X;X;X;X;X;X;X;X;X;X;X             | PQSPVIQAT(0.025)AGS(0.975)PK               | 6 | UID7  | 1 |\n",
       "| 4 | 4 |  0.09177683 |  0.5336853 |  0.5840263 | 0.6080642201 | 0.5711390153 | 0.35537371 | 0.33392388 | 8 | 2.855463 | ... | A2A5R2 | A2A5R2 | Brefeldin A-inhibited guanine nucleotide-exchange protein 2 | Arfgef2 | NSQTNGIADDRQSLSSADNLEPDVQGHQVAA | X;X;X;X;X;X;X;X;X;X;X;X;X;X;X;Phospho (STY);X;X;X;X;X;X;X;X;X;X;X;X;X;X;X             | QS(0.002)LS(0.117)S(0.881)ADNLEPDVQGHQVAAR | 7 | UID8  | 1 |\n",
       "| 5 | 5 | -0.08194429 | -0.9104564 | -0.8700578 | 0.3891897809 | 0.4030980300 | 0.27710570 | 0.27431732 | 8 | 2.855463 | ... | A2A5R2 | A2A5R2 | Brefeldin A-inhibited guanine nucleotide-exchange protein 2 | Arfgef2 | ELPNGDHAQSGLGKVSLENGEAPRERGSPVS | X;X;X;X;X;X;X;X;X;X;X;X;X;X;X;Phospho (STY);X;X;X;X;X;X;X;X;X;X;X;Phospho (STY);X;X;X | VS(1)LENGEAPR                              | 8 | UID9  | 1 |\n",
       "| 6 | 6 | -0.51339913 | -5.0957354 | -5.0388548 | 0.0009347616 | 0.0003943557 | 0.01012876 | 0.00579705 | 8 | 2.855463 | ... | A2A690 | A2A690 | Protein TANC2                                               | Tanc2   | GSHQVFDFRSNSSVGSPTRQGYQSTSPALSP | X;X;X;X;X;X;X;X;X;X;X;X;X;X;X;Phospho (STY);X;X;X;X;X;X;X;X;X;X;X;X;X;X;X             | SNSSVGS(0.999)PT(0.001)R                   | 9 | UID10 | 1 |\n",
       "\n"
      ],
      "text/plain": [
       "  index logFC       t.ord      t.mod      p.ord        p.mod        q.ord     \n",
       "1 1      0.35840933  2.4536543  2.6262256 0.0397097738 0.0237975073 0.07486536\n",
       "2 2     -0.19408896 -1.1815819 -1.2858060 0.2713022147 0.2252614846 0.22775646\n",
       "3 3     -0.43222677 -3.8421477 -3.9088732 0.0049321397 0.0025001036 0.02433047\n",
       "4 4      0.09177683  0.5336853  0.5840263 0.6080642201 0.5711390153 0.35537371\n",
       "5 5     -0.08194429 -0.9104564 -0.8700578 0.3891897809 0.4030980300 0.27710570\n",
       "6 6     -0.51339913 -5.0957354 -5.0388548 0.0009347616 0.0003943557 0.01012876\n",
       "  q.mod      df.r df.0     ... Leading.proteins Protein\n",
       "1 0.05219512 8    2.855463 ... P0DPB4           P0DPB4 \n",
       "2 0.19752725 8    2.855463 ... A2A5R2           A2A5R2 \n",
       "3 0.01507326 8    2.855463 ... A2A5R2           A2A5R2 \n",
       "4 0.33392388 8    2.855463 ... A2A5R2           A2A5R2 \n",
       "5 0.27431732 8    2.855463 ... A2A5R2           A2A5R2 \n",
       "6 0.00579705 8    2.855463 ... A2A690           A2A690 \n",
       "  Protein.names                                               Gene.names\n",
       "1                                                             Schip1    \n",
       "2 Brefeldin A-inhibited guanine nucleotide-exchange protein 2 Arfgef2   \n",
       "3 Brefeldin A-inhibited guanine nucleotide-exchange protein 2 Arfgef2   \n",
       "4 Brefeldin A-inhibited guanine nucleotide-exchange protein 2 Arfgef2   \n",
       "5 Brefeldin A-inhibited guanine nucleotide-exchange protein 2 Arfgef2   \n",
       "6 Protein TANC2                                               Tanc2     \n",
       "  Sequence.window                \n",
       "1 DADDSKTETSLDTPLSPMSKQSSSYSDRDTT\n",
       "2 GKVSLENGEAPRERGSPVSGRAEPSRGTDSG\n",
       "3 MQSKPQSPVIQATAGSPKFSRLKQSQAQSKP\n",
       "4 NSQTNGIADDRQSLSSADNLEPDVQGHQVAA\n",
       "5 ELPNGDHAQSGLGKVSLENGEAPRERGSPVS\n",
       "6 GSHQVFDFRSNSSVGSPTRQGYQSTSPALSP\n",
       "  Modification.window                                                                  \n",
       "1 X;X;X;X;X;X;X;X;X;X;X;X;X;X;X;Phospho (STY);X;Oxidation (M);X;X;X;X;X;X;X;X;X;X;X;X;X\n",
       "2 X;X;X;Phospho (STY);X;X;X;X;X;X;X;X;X;X;X;Phospho (STY);X;X;X;X;X;X;X;X;X;X;X;X;X;X;X\n",
       "3 X;X;X;X;X;X;X;X;X;X;X;X;X;X;X;Phospho (STY);X;X;X;X;X;X;X;X;X;X;X;X;X;X;X            \n",
       "4 X;X;X;X;X;X;X;X;X;X;X;X;X;X;X;Phospho (STY);X;X;X;X;X;X;X;X;X;X;X;X;X;X;X            \n",
       "5 X;X;X;X;X;X;X;X;X;X;X;X;X;X;X;Phospho (STY);X;X;X;X;X;X;X;X;X;X;X;Phospho (STY);X;X;X\n",
       "6 X;X;X;X;X;X;X;X;X;X;X;X;X;X;X;Phospho (STY);X;X;X;X;X;X;X;X;X;X;X;X;X;X;X            \n",
       "  Phospho..STY..Probabilities                id Unique.identifier\n",
       "1 TETSLDT(0.001)PLS(0.995)PMS(0.005)K        1  UID2             \n",
       "2 GS(1)PVSGR                                 3  UID4             \n",
       "3 PQSPVIQAT(0.025)AGS(0.975)PK               6  UID7             \n",
       "4 QS(0.002)LS(0.117)S(0.881)ADNLEPDVQGHQVAAR 7  UID8             \n",
       "5 VS(1)LENGEAPR                              8  UID9             \n",
       "6 SNSSVGS(0.999)PT(0.001)R                   9  UID10            \n",
       "  Number.of.Phospho..STY.\n",
       "1 1                      \n",
       "2 1                      \n",
       "3 1                      \n",
       "4 1                      \n",
       "5 1                      \n",
       "6 1                      "
      ]
     },
     "metadata": {},
     "output_type": "display_data"
    }
   ],
   "source": [
    "df_combined <- merge(res.eb, data_raw)\n",
    "\n",
    "head(df_combined)"
   ]
  },
  {
   "cell_type": "markdown",
   "metadata": {},
   "source": [
    "## Save combined dataframe as csv file"
   ]
  },
  {
   "cell_type": "code",
   "execution_count": 15,
   "metadata": {},
   "outputs": [
    {
     "name": "stderr",
     "output_type": "stream",
     "text": [
      "Warning message in write.csv(df_combined, file = path_output, row.names = FALSE, :\n",
      "\"attempt to set 'col.names' ignored\"\n"
     ]
    }
   ],
   "source": [
    "path_output <- paste(str_replace(path_input, \".csv\", \"\"), \"_empBayes_pvals.csv\")\n",
    "write.csv(df_combined, file=path_output, row.names=FALSE, col.names=TRUE)"
   ]
  },
  {
   "cell_type": "code",
   "execution_count": null,
   "metadata": {},
   "outputs": [],
   "source": []
  }
 ],
 "metadata": {
  "kernelspec": {
   "display_name": "R",
   "language": "R",
   "name": "ir"
  },
  "language_info": {
   "codemirror_mode": "r",
   "file_extension": ".r",
   "mimetype": "text/x-r-source",
   "name": "R",
   "pygments_lexer": "r",
   "version": "3.6.2"
  }
 },
 "nbformat": 4,
 "nbformat_minor": 4
}
