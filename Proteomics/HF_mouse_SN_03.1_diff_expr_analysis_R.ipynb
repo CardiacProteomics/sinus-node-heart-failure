{
 "cells": [
  {
   "cell_type": "markdown",
   "metadata": {},
   "source": [
    "# Differential expression analysis of TMT labeled proteome data using Limma's moderated t-test\n",
    "## searched with MaxQuant v.1.6.10.43 with unitprot reviewed mouse DB, without isoforms, with PIF cutoff (0.75) and iBAQ calculation enabled"
   ]
  },
  {
   "cell_type": "markdown",
   "metadata": {},
   "source": [
    "### Author: Konstantin Kahnert\n",
    "### Date: 2020_09_10"
   ]
  },
  {
   "cell_type": "markdown",
   "metadata": {},
   "source": [
    "After the initial data processing and anlysis, we continue with the differential expression protein analysis.  \n",
    "In this script we will:\n",
    "\n",
    "- use the moderated t-test of the limma package to determine significantly differentially expressed proteins"
   ]
  },
  {
   "cell_type": "markdown",
   "metadata": {},
   "source": [
    "## Load required libraries"
   ]
  },
  {
   "cell_type": "code",
   "execution_count": 1,
   "metadata": {},
   "outputs": [],
   "source": [
    "library(limma)\n",
    "library(qvalue)\n",
    "library(stringr)"
   ]
  },
  {
   "cell_type": "markdown",
   "metadata": {},
   "source": [
    "## Load function from Kammers et al. 2015 (\"Detecting significant changes in protein abundance\", doi: 10.1016/j.euprot.2015.02.002)"
   ]
  },
  {
   "cell_type": "code",
   "execution_count": 2,
   "metadata": {},
   "outputs": [],
   "source": [
    "source(\"http://www.biostat.jhsph.edu/~kkammers/software/eupa/source.functions.r\")"
   ]
  },
  {
   "cell_type": "markdown",
   "metadata": {},
   "source": [
    "## Load data"
   ]
  },
  {
   "cell_type": "code",
   "execution_count": 3,
   "metadata": {},
   "outputs": [],
   "source": [
    "path_input <- file.path(\"E:/Data/Heart_failure_mice_CS/Sinus_node/Proteome/Analysis/canonical/w_PIF/03_diff_expr_analysis/\",\n",
    "                        \"df_proteingroups_log_median subtraction_norm.csv\")\n",
    "\n",
    "data_raw <- read.csv(path_input)\n"
   ]
  },
  {
   "cell_type": "markdown",
   "metadata": {},
   "source": [
    "## Define treatment and control groups for two group comparison, assuming 5 cases and 5 controls\n"
   ]
  },
  {
   "cell_type": "code",
   "execution_count": 4,
   "metadata": {},
   "outputs": [],
   "source": [
    "ct <- c(\"Sham.1\", \"Sham.2\", \"Sham.3\", \"Sham.4\", \"Sham.5\")\n",
    "tr <- c(\"TAC.1\", \"TAC.2\", \"TAC.3\", \"TAC.4\", \"TAC.5\")"
   ]
  },
  {
   "cell_type": "markdown",
   "metadata": {},
   "source": [
    "## Define design according to syntax of limma package"
   ]
  },
  {
   "cell_type": "code",
   "execution_count": 5,
   "metadata": {},
   "outputs": [
    {
     "data": {
      "text/html": [
       "<table>\n",
       "<caption>A matrix: 10 × 2 of type dbl</caption>\n",
       "<thead>\n",
       "\t<tr><th></th><th scope=col>Intercept</th><th scope=col>Diff</th></tr>\n",
       "</thead>\n",
       "<tbody>\n",
       "\t<tr><th scope=row>1</th><td>1</td><td>0</td></tr>\n",
       "\t<tr><th scope=row>2</th><td>1</td><td>0</td></tr>\n",
       "\t<tr><th scope=row>3</th><td>1</td><td>0</td></tr>\n",
       "\t<tr><th scope=row>4</th><td>1</td><td>0</td></tr>\n",
       "\t<tr><th scope=row>5</th><td>1</td><td>0</td></tr>\n",
       "\t<tr><th scope=row>6</th><td>1</td><td>1</td></tr>\n",
       "\t<tr><th scope=row>7</th><td>1</td><td>1</td></tr>\n",
       "\t<tr><th scope=row>8</th><td>1</td><td>1</td></tr>\n",
       "\t<tr><th scope=row>9</th><td>1</td><td>1</td></tr>\n",
       "\t<tr><th scope=row>10</th><td>1</td><td>1</td></tr>\n",
       "</tbody>\n",
       "</table>\n"
      ],
      "text/latex": [
       "A matrix: 10 × 2 of type dbl\n",
       "\\begin{tabular}{r|ll}\n",
       "  & Intercept & Diff\\\\\n",
       "\\hline\n",
       "\t1 & 1 & 0\\\\\n",
       "\t2 & 1 & 0\\\\\n",
       "\t3 & 1 & 0\\\\\n",
       "\t4 & 1 & 0\\\\\n",
       "\t5 & 1 & 0\\\\\n",
       "\t6 & 1 & 1\\\\\n",
       "\t7 & 1 & 1\\\\\n",
       "\t8 & 1 & 1\\\\\n",
       "\t9 & 1 & 1\\\\\n",
       "\t10 & 1 & 1\\\\\n",
       "\\end{tabular}\n"
      ],
      "text/markdown": [
       "\n",
       "A matrix: 10 × 2 of type dbl\n",
       "\n",
       "| <!--/--> | Intercept | Diff |\n",
       "|---|---|---|\n",
       "| 1 | 1 | 0 |\n",
       "| 2 | 1 | 0 |\n",
       "| 3 | 1 | 0 |\n",
       "| 4 | 1 | 0 |\n",
       "| 5 | 1 | 0 |\n",
       "| 6 | 1 | 1 |\n",
       "| 7 | 1 | 1 |\n",
       "| 8 | 1 | 1 |\n",
       "| 9 | 1 | 1 |\n",
       "| 10 | 1 | 1 |\n",
       "\n"
      ],
      "text/plain": [
       "   Intercept Diff\n",
       "1  1         0   \n",
       "2  1         0   \n",
       "3  1         0   \n",
       "4  1         0   \n",
       "5  1         0   \n",
       "6  1         1   \n",
       "7  1         1   \n",
       "8  1         1   \n",
       "9  1         1   \n",
       "10 1         1   "
      ]
     },
     "metadata": {},
     "output_type": "display_data"
    }
   ],
   "source": [
    "design <- model.matrix(~factor(c(1,1,1,1,1,2,2,2,2,2))) # first five samples control, next five case\n",
    "\n",
    "colnames(design) <- c(\"Intercept\", \"Diff\")\n",
    "design"
   ]
  },
  {
   "cell_type": "markdown",
   "metadata": {},
   "source": [
    "## Fit linear model and determine differentially expressed proteins"
   ]
  },
  {
   "cell_type": "code",
   "execution_count": 6,
   "metadata": {},
   "outputs": [
    {
     "data": {
      "text/html": [
       "<table>\n",
       "<caption>A data.frame: 6 × 12</caption>\n",
       "<thead>\n",
       "\t<tr><th></th><th scope=col>logFC</th><th scope=col>t.ord</th><th scope=col>t.mod</th><th scope=col>p.ord</th><th scope=col>p.mod</th><th scope=col>q.ord</th><th scope=col>q.mod</th><th scope=col>df.r</th><th scope=col>df.0</th><th scope=col>s2.0</th><th scope=col>s2</th><th scope=col>s2.post</th></tr>\n",
       "\t<tr><th></th><th scope=col>&lt;dbl&gt;</th><th scope=col>&lt;dbl&gt;</th><th scope=col>&lt;dbl&gt;</th><th scope=col>&lt;dbl&gt;</th><th scope=col>&lt;dbl&gt;</th><th scope=col>&lt;dbl&gt;</th><th scope=col>&lt;dbl&gt;</th><th scope=col>&lt;int&gt;</th><th scope=col>&lt;dbl&gt;</th><th scope=col>&lt;dbl&gt;</th><th scope=col>&lt;dbl&gt;</th><th scope=col>&lt;dbl&gt;</th></tr>\n",
       "</thead>\n",
       "<tbody>\n",
       "\t<tr><th scope=row>267</th><td> 0.7530576</td><td>13.116925</td><td>10.503238</td><td>1.085120e-06</td><td>3.762635e-07</td><td>0.003132121</td><td>0.001095581</td><td>8</td><td>3.23412</td><td>0.02425799</td><td>0.008240098</td><td>0.01285139</td></tr>\n",
       "\t<tr><th scope=row>1081</th><td> 0.8040662</td><td> 8.218661</td><td> 8.202437</td><td>3.594532e-05</td><td>4.488652e-06</td><td>0.022076792</td><td>0.006534893</td><td>8</td><td>3.23412</td><td>0.02425799</td><td>0.023928831</td><td>0.02402359</td></tr>\n",
       "\t<tr><th scope=row>2546</th><td> 0.6543534</td><td> 8.322931</td><td> 7.714244</td><td>3.280774e-05</td><td>8.122415e-06</td><td>0.022076792</td><td>0.007117341</td><td>8</td><td>3.23412</td><td>0.02425799</td><td>0.015452977</td><td>0.01798780</td></tr>\n",
       "\t<tr><th scope=row>5962</th><td> 2.5411947</td><td> 6.465233</td><td> 7.565960</td><td>1.951378e-04</td><td>9.777441e-06</td><td>0.022076792</td><td>0.007117341</td><td>8</td><td>3.23412</td><td>0.02425799</td><td>0.386231319</td><td>0.28202510</td></tr>\n",
       "\t<tr><th scope=row>407</th><td>-0.6493444</td><td>-7.528260</td><td>-7.218775</td><td>6.745093e-05</td><td>1.524707e-05</td><td>0.022076792</td><td>0.007165375</td><td>8</td><td>3.23412</td><td>0.02425799</td><td>0.018599490</td><td>0.02022848</td></tr>\n",
       "\t<tr><th scope=row>1709</th><td>-0.6700499</td><td>-7.200831</td><td>-7.078954</td><td>9.237553e-05</td><td>1.830973e-05</td><td>0.022076792</td><td>0.007165375</td><td>8</td><td>3.23412</td><td>0.02425799</td><td>0.021646565</td><td>0.02239835</td></tr>\n",
       "</tbody>\n",
       "</table>\n"
      ],
      "text/latex": [
       "A data.frame: 6 × 12\n",
       "\\begin{tabular}{r|llllllllllll}\n",
       "  & logFC & t.ord & t.mod & p.ord & p.mod & q.ord & q.mod & df.r & df.0 & s2.0 & s2 & s2.post\\\\\n",
       "  & <dbl> & <dbl> & <dbl> & <dbl> & <dbl> & <dbl> & <dbl> & <int> & <dbl> & <dbl> & <dbl> & <dbl>\\\\\n",
       "\\hline\n",
       "\t267 &  0.7530576 & 13.116925 & 10.503238 & 1.085120e-06 & 3.762635e-07 & 0.003132121 & 0.001095581 & 8 & 3.23412 & 0.02425799 & 0.008240098 & 0.01285139\\\\\n",
       "\t1081 &  0.8040662 &  8.218661 &  8.202437 & 3.594532e-05 & 4.488652e-06 & 0.022076792 & 0.006534893 & 8 & 3.23412 & 0.02425799 & 0.023928831 & 0.02402359\\\\\n",
       "\t2546 &  0.6543534 &  8.322931 &  7.714244 & 3.280774e-05 & 8.122415e-06 & 0.022076792 & 0.007117341 & 8 & 3.23412 & 0.02425799 & 0.015452977 & 0.01798780\\\\\n",
       "\t5962 &  2.5411947 &  6.465233 &  7.565960 & 1.951378e-04 & 9.777441e-06 & 0.022076792 & 0.007117341 & 8 & 3.23412 & 0.02425799 & 0.386231319 & 0.28202510\\\\\n",
       "\t407 & -0.6493444 & -7.528260 & -7.218775 & 6.745093e-05 & 1.524707e-05 & 0.022076792 & 0.007165375 & 8 & 3.23412 & 0.02425799 & 0.018599490 & 0.02022848\\\\\n",
       "\t1709 & -0.6700499 & -7.200831 & -7.078954 & 9.237553e-05 & 1.830973e-05 & 0.022076792 & 0.007165375 & 8 & 3.23412 & 0.02425799 & 0.021646565 & 0.02239835\\\\\n",
       "\\end{tabular}\n"
      ],
      "text/markdown": [
       "\n",
       "A data.frame: 6 × 12\n",
       "\n",
       "| <!--/--> | logFC &lt;dbl&gt; | t.ord &lt;dbl&gt; | t.mod &lt;dbl&gt; | p.ord &lt;dbl&gt; | p.mod &lt;dbl&gt; | q.ord &lt;dbl&gt; | q.mod &lt;dbl&gt; | df.r &lt;int&gt; | df.0 &lt;dbl&gt; | s2.0 &lt;dbl&gt; | s2 &lt;dbl&gt; | s2.post &lt;dbl&gt; |\n",
       "|---|---|---|---|---|---|---|---|---|---|---|---|---|\n",
       "| 267 |  0.7530576 | 13.116925 | 10.503238 | 1.085120e-06 | 3.762635e-07 | 0.003132121 | 0.001095581 | 8 | 3.23412 | 0.02425799 | 0.008240098 | 0.01285139 |\n",
       "| 1081 |  0.8040662 |  8.218661 |  8.202437 | 3.594532e-05 | 4.488652e-06 | 0.022076792 | 0.006534893 | 8 | 3.23412 | 0.02425799 | 0.023928831 | 0.02402359 |\n",
       "| 2546 |  0.6543534 |  8.322931 |  7.714244 | 3.280774e-05 | 8.122415e-06 | 0.022076792 | 0.007117341 | 8 | 3.23412 | 0.02425799 | 0.015452977 | 0.01798780 |\n",
       "| 5962 |  2.5411947 |  6.465233 |  7.565960 | 1.951378e-04 | 9.777441e-06 | 0.022076792 | 0.007117341 | 8 | 3.23412 | 0.02425799 | 0.386231319 | 0.28202510 |\n",
       "| 407 | -0.6493444 | -7.528260 | -7.218775 | 6.745093e-05 | 1.524707e-05 | 0.022076792 | 0.007165375 | 8 | 3.23412 | 0.02425799 | 0.018599490 | 0.02022848 |\n",
       "| 1709 | -0.6700499 | -7.200831 | -7.078954 | 9.237553e-05 | 1.830973e-05 | 0.022076792 | 0.007165375 | 8 | 3.23412 | 0.02425799 | 0.021646565 | 0.02239835 |\n",
       "\n"
      ],
      "text/plain": [
       "     logFC      t.ord     t.mod     p.ord        p.mod        q.ord      \n",
       "267   0.7530576 13.116925 10.503238 1.085120e-06 3.762635e-07 0.003132121\n",
       "1081  0.8040662  8.218661  8.202437 3.594532e-05 4.488652e-06 0.022076792\n",
       "2546  0.6543534  8.322931  7.714244 3.280774e-05 8.122415e-06 0.022076792\n",
       "5962  2.5411947  6.465233  7.565960 1.951378e-04 9.777441e-06 0.022076792\n",
       "407  -0.6493444 -7.528260 -7.218775 6.745093e-05 1.524707e-05 0.022076792\n",
       "1709 -0.6700499 -7.200831 -7.078954 9.237553e-05 1.830973e-05 0.022076792\n",
       "     q.mod       df.r df.0    s2.0       s2          s2.post   \n",
       "267  0.001095581 8    3.23412 0.02425799 0.008240098 0.01285139\n",
       "1081 0.006534893 8    3.23412 0.02425799 0.023928831 0.02402359\n",
       "2546 0.007117341 8    3.23412 0.02425799 0.015452977 0.01798780\n",
       "5962 0.007117341 8    3.23412 0.02425799 0.386231319 0.28202510\n",
       "407  0.007165375 8    3.23412 0.02425799 0.018599490 0.02022848\n",
       "1709 0.007165375 8    3.23412 0.02425799 0.021646565 0.02239835"
      ]
     },
     "metadata": {},
     "output_type": "display_data"
    }
   ],
   "source": [
    "res.eb <- eb.fit(data_raw[, c(ct, tr)], design)\n",
    "head(res.eb)"
   ]
  },
  {
   "cell_type": "markdown",
   "metadata": {},
   "source": [
    "## Plot volcano plots for ordinary and moderated p-values"
   ]
  },
  {
   "cell_type": "code",
   "execution_count": 7,
   "metadata": {},
   "outputs": [
    {
     "data": {
      "image/png": "[encoded data removed]",
      "text/plain": [
       "Plot with title \"Volcano plot of moderated p-values\""
      ]
     },
     "metadata": {
      "image/png": {
       "height": 420,
       "width": 420
      }
     },
     "output_type": "display_data"
    }
   ],
   "source": [
    "rx <- c(-1, 1)*max(abs(res.eb$logFC))*1.1\n",
    "ry <- c(0, ceiling(max(-log10(res.eb$p.ord), -log10(res.eb$p.mod))))\n",
    "\n",
    "par(mfrow=c(1,2), font.lab=2, cex.lab=1.2, font.axis=2, cex.axis=1.2)\n",
    "par(las=1, xaxs=\"i\", yaxs=\"i\")\n",
    "\n",
    "# ordinary p-values\n",
    "plot(res.eb$logFC, -log10(res.eb$p.ord), pch=20, bg=\"black\", cex=0.9, \n",
    "     xlim=rx, ylim=ry, xaxt=\"n\",\n",
    "     xlab=\"fold change\", ylab=\"-log10  p-value\")\n",
    "abline(h=1.88515, col=\"red\", lty=\"dashed\",lwd=2)\n",
    "abline(v=c(-0.58496, 0.58496), col=\"red\", lty=\"dashed\",lwd=2)\n",
    "axis(1, seq(-2,2,1), paste(c(\"1/4\",\"1/2\",\"1/1\",\"2/1\",\"4/1\")))\n",
    "title(\"Volcano plot of ordinary p-values\")\n",
    "\n",
    "# moderated p-values\n",
    "plot(res.eb$logFC, -log10(res.eb$p.mod), pch=20, bg=\"black\", cex=0.9,\n",
    "     xlim=rx, ylim=ry, xaxt=\"n\",\n",
    "     xlab=\"fold change\", ylab=\"-log10  p-value\")\n",
    "abline(h=1.7504, col=\"red\", lty=\"dashed\", lwd=2)\n",
    "abline(v=c(-0.58496, 0.58496), col=\"red\", lty=\"dashed\",lwd=2)\n",
    "axis(1, seq(-2,2,1), paste(c(\"1/4\",\"1/2\",\"1/1\",\"2/1\",\"4/1\")))\n",
    "title(\"Volcano plot of moderated p-values\")\n"
   ]
  },
  {
   "cell_type": "markdown",
   "metadata": {},
   "source": [
    "## Sort dataframes by index\n"
   ]
  },
  {
   "cell_type": "code",
   "execution_count": 8,
   "metadata": {},
   "outputs": [],
   "source": [
    "res.eb$index <- as.numeric(row.names(res.eb))\n",
    "res.eb <- res.eb[order(res.eb$index), ]\n",
    "\n",
    "data_raw$index <- as.numeric(row.names(data_raw))\n",
    "data_raw <- data_raw[order(data_raw$index), ]"
   ]
  },
  {
   "cell_type": "markdown",
   "metadata": {},
   "source": [
    "## Combine dataframes"
   ]
  },
  {
   "cell_type": "code",
   "execution_count": 9,
   "metadata": {},
   "outputs": [
    {
     "data": {
      "text/html": [
       "<table>\n",
       "<caption>A data.frame: 6 × 134</caption>\n",
       "<thead>\n",
       "\t<tr><th></th><th scope=col>index</th><th scope=col>logFC</th><th scope=col>t.ord</th><th scope=col>t.mod</th><th scope=col>p.ord</th><th scope=col>p.mod</th><th scope=col>q.ord</th><th scope=col>q.mod</th><th scope=col>df.r</th><th scope=col>df.0</th><th scope=col>...</th><th scope=col>Potential.contaminant</th><th scope=col>id</th><th scope=col>Peptide.IDs</th><th scope=col>Peptide.is.razor</th><th scope=col>Mod..peptide.IDs</th><th scope=col>Evidence.IDs</th><th scope=col>MS.MS.IDs</th><th scope=col>Best.MS.MS</th><th scope=col>Oxidation..M..site.IDs</th><th scope=col>Oxidation..M..site.positions</th></tr>\n",
       "\t<tr><th></th><th scope=col>&lt;dbl&gt;</th><th scope=col>&lt;dbl&gt;</th><th scope=col>&lt;dbl&gt;</th><th scope=col>&lt;dbl&gt;</th><th scope=col>&lt;dbl&gt;</th><th scope=col>&lt;dbl&gt;</th><th scope=col>&lt;dbl&gt;</th><th scope=col>&lt;dbl&gt;</th><th scope=col>&lt;int&gt;</th><th scope=col>&lt;dbl&gt;</th><th scope=col>...</th><th scope=col>&lt;lgl&gt;</th><th scope=col>&lt;int&gt;</th><th scope=col>&lt;fct&gt;</th><th scope=col>&lt;fct&gt;</th><th scope=col>&lt;fct&gt;</th><th scope=col>&lt;fct&gt;</th><th scope=col>&lt;fct&gt;</th><th scope=col>&lt;fct&gt;</th><th scope=col>&lt;fct&gt;</th><th scope=col>&lt;fct&gt;</th></tr>\n",
       "</thead>\n",
       "<tbody>\n",
       "\t<tr><th scope=row>1</th><td>1</td><td>-0.28758709</td><td>-2.5337682</td><td>-2.6288796</td><td>0.035049187</td><td>0.0230930365</td><td>0.07246915</td><td>0.053878934</td><td>8</td><td>3.23412</td><td>...</td><td>NA</td><td>0</td><td>6069;8344;8870;13813;19817;31684;39687                                                                 </td><td>True;True;True;True;True;True;True                                                       </td><td>6333;8706;9250;9251;14422;20662;33317;41657                                                                  </td><td>17467;17468;24091;25559;25560;25561;25562;25563;25564;25565;25566;25567;40328;56548;56549;87417;87418;109011;109012                                                 </td><td>11890;16386;17364;17365;17366;17367;17368;27682;38853;60572;75514                                                     </td><td>11890;16386;17367;27682;38853;60572;75514                                                                 </td><td>0</td><td>352</td></tr>\n",
       "\t<tr><th scope=row>2</th><td>2</td><td> 0.91848556</td><td> 6.0116684</td><td> 6.5915829</td><td>0.000319218</td><td>0.0000353275</td><td>0.02207679</td><td>0.007165375</td><td>8</td><td>3.23412</td><td>...</td><td>NA</td><td>2</td><td>8075                                                                                                   </td><td>True                                                                                     </td><td>8429                                                                                                         </td><td>23393                                                                                                                                                               </td><td>15915                                                                                                                 </td><td>15915                                                                                                     </td><td> </td><td>   </td></tr>\n",
       "\t<tr><th scope=row>3</th><td>3</td><td> 0.09950036</td><td> 0.5027768</td><td> 0.5680314</td><td>0.628667647</td><td>0.5811892017</td><td>0.35110886</td><td>0.339813584</td><td>8</td><td>3.23412</td><td>...</td><td>NA</td><td>3</td><td>6875;9957;9997;19846;21301;24900;30715;32041;32245;32685                                               </td><td>True;True;True;True;False;True;True;False;False;False                                    </td><td>7170;10392;10433;20691;22201;25922;32320;33686;33896;34344                                                   </td><td>20019;20020;28865;28866;29007;56623;60447;60448;60449;69686;85151;88386;88818;88819;88820;89782;89783;89784                                                         </td><td>13630;13631;19648;19649;19743;38911;41620;41621;41622;48121;59030;61276;61558;61559;62246                             </td><td>13630;19649;19743;38911;41621;48121;59030;61276;61558;62246                                               </td><td> </td><td>   </td></tr>\n",
       "\t<tr><th scope=row>4</th><td>4</td><td> 0.09755184</td><td> 1.3937320</td><td> 1.2307885</td><td>0.200894847</td><td>0.2435490916</td><td>0.18490131</td><td>0.205969082</td><td>8</td><td>3.23412</td><td>...</td><td>NA</td><td>6</td><td>1341;5441;7396;8665;18925;19306;20141;20260;24903;26528;27066;31648;31649;33617;33718;39443;39997;42480</td><td>True;True;True;True;True;True;True;True;True;True;True;True;True;True;True;True;True;True</td><td>1410;5671;7705;9037;19738;20132;20991;21113;25925;27764;28468;28469;33281;33282;35314;35419;41400;41982;44564</td><td>4183;15524;21501;24914;54064;55057;57365;57366;57709;57710;69691;74084;74085;74086;74087;75745;75746;75747;75748;87328;87329;92349;92586;108328;108329;109838;116346</td><td>2828;10467;14620;16921;37137;37807;39463;39709;48126;51198;52392;52393;52394;60515;60516;64010;64168;75031;76093;80639</td><td>2828;10467;14620;16921;37137;37807;39463;39709;48126;51198;52393;60515;60516;64010;64168;75031;76093;80639</td><td>2</td><td>1  </td></tr>\n",
       "\t<tr><th scope=row>5</th><td>5</td><td> 0.27182456</td><td> 0.9539343</td><td> 1.1040737</td><td>0.368047785</td><td>0.2926483213</td><td>0.25995179</td><td>0.228082367</td><td>8</td><td>3.23412</td><td>...</td><td>NA</td><td>7</td><td>23613                                                                                                  </td><td>True                                                                                     </td><td>24599                                                                                                        </td><td>66471                                                                                                                                                               </td><td>45851                                                                                                                 </td><td>45851                                                                                                     </td><td> </td><td>   </td></tr>\n",
       "\t<tr><th scope=row>6</th><td>6</td><td>-0.02880012</td><td>-0.1558658</td><td>-0.1749278</td><td>0.880000066</td><td>0.8642492959</td><td>0.42060872</td><td>0.420349396</td><td>8</td><td>3.23412</td><td>...</td><td>NA</td><td>8</td><td>4582                                                                                                   </td><td>True                                                                                     </td><td>4779                                                                                                         </td><td>13344                                                                                                                                                               </td><td>8963                                                                                                                  </td><td>8963                                                                                                      </td><td> </td><td>   </td></tr>\n",
       "</tbody>\n",
       "</table>\n"
      ],
      "text/latex": [
       "A data.frame: 6 × 134\n",
       "\\begin{tabular}{r|lllllllllllllllllllll}\n",
       "  & index & logFC & t.ord & t.mod & p.ord & p.mod & q.ord & q.mod & df.r & df.0 & ... & Potential.contaminant & id & Peptide.IDs & Peptide.is.razor & Mod..peptide.IDs & Evidence.IDs & MS.MS.IDs & Best.MS.MS & Oxidation..M..site.IDs & Oxidation..M..site.positions\\\\\n",
       "  & <dbl> & <dbl> & <dbl> & <dbl> & <dbl> & <dbl> & <dbl> & <dbl> & <int> & <dbl> & ... & <lgl> & <int> & <fct> & <fct> & <fct> & <fct> & <fct> & <fct> & <fct> & <fct>\\\\\n",
       "\\hline\n",
       "\t1 & 1 & -0.28758709 & -2.5337682 & -2.6288796 & 0.035049187 & 0.0230930365 & 0.07246915 & 0.053878934 & 8 & 3.23412 & ... & NA & 0 & 6069;8344;8870;13813;19817;31684;39687                                                                  & True;True;True;True;True;True;True                                                        & 6333;8706;9250;9251;14422;20662;33317;41657                                                                   & 17467;17468;24091;25559;25560;25561;25562;25563;25564;25565;25566;25567;40328;56548;56549;87417;87418;109011;109012                                                  & 11890;16386;17364;17365;17366;17367;17368;27682;38853;60572;75514                                                      & 11890;16386;17367;27682;38853;60572;75514                                                                  & 0 & 352\\\\\n",
       "\t2 & 2 &  0.91848556 &  6.0116684 &  6.5915829 & 0.000319218 & 0.0000353275 & 0.02207679 & 0.007165375 & 8 & 3.23412 & ... & NA & 2 & 8075                                                                                                    & True                                                                                      & 8429                                                                                                          & 23393                                                                                                                                                                & 15915                                                                                                                  & 15915                                                                                                      &   &    \\\\\n",
       "\t3 & 3 &  0.09950036 &  0.5027768 &  0.5680314 & 0.628667647 & 0.5811892017 & 0.35110886 & 0.339813584 & 8 & 3.23412 & ... & NA & 3 & 6875;9957;9997;19846;21301;24900;30715;32041;32245;32685                                                & True;True;True;True;False;True;True;False;False;False                                     & 7170;10392;10433;20691;22201;25922;32320;33686;33896;34344                                                    & 20019;20020;28865;28866;29007;56623;60447;60448;60449;69686;85151;88386;88818;88819;88820;89782;89783;89784                                                          & 13630;13631;19648;19649;19743;38911;41620;41621;41622;48121;59030;61276;61558;61559;62246                              & 13630;19649;19743;38911;41621;48121;59030;61276;61558;62246                                                &   &    \\\\\n",
       "\t4 & 4 &  0.09755184 &  1.3937320 &  1.2307885 & 0.200894847 & 0.2435490916 & 0.18490131 & 0.205969082 & 8 & 3.23412 & ... & NA & 6 & 1341;5441;7396;8665;18925;19306;20141;20260;24903;26528;27066;31648;31649;33617;33718;39443;39997;42480 & True;True;True;True;True;True;True;True;True;True;True;True;True;True;True;True;True;True & 1410;5671;7705;9037;19738;20132;20991;21113;25925;27764;28468;28469;33281;33282;35314;35419;41400;41982;44564 & 4183;15524;21501;24914;54064;55057;57365;57366;57709;57710;69691;74084;74085;74086;74087;75745;75746;75747;75748;87328;87329;92349;92586;108328;108329;109838;116346 & 2828;10467;14620;16921;37137;37807;39463;39709;48126;51198;52392;52393;52394;60515;60516;64010;64168;75031;76093;80639 & 2828;10467;14620;16921;37137;37807;39463;39709;48126;51198;52393;60515;60516;64010;64168;75031;76093;80639 & 2 & 1  \\\\\n",
       "\t5 & 5 &  0.27182456 &  0.9539343 &  1.1040737 & 0.368047785 & 0.2926483213 & 0.25995179 & 0.228082367 & 8 & 3.23412 & ... & NA & 7 & 23613                                                                                                   & True                                                                                      & 24599                                                                                                         & 66471                                                                                                                                                                & 45851                                                                                                                  & 45851                                                                                                      &   &    \\\\\n",
       "\t6 & 6 & -0.02880012 & -0.1558658 & -0.1749278 & 0.880000066 & 0.8642492959 & 0.42060872 & 0.420349396 & 8 & 3.23412 & ... & NA & 8 & 4582                                                                                                    & True                                                                                      & 4779                                                                                                          & 13344                                                                                                                                                                & 8963                                                                                                                   & 8963                                                                                                       &   &    \\\\\n",
       "\\end{tabular}\n"
      ],
      "text/markdown": [
       "\n",
       "A data.frame: 6 × 134\n",
       "\n",
       "| <!--/--> | index &lt;dbl&gt; | logFC &lt;dbl&gt; | t.ord &lt;dbl&gt; | t.mod &lt;dbl&gt; | p.ord &lt;dbl&gt; | p.mod &lt;dbl&gt; | q.ord &lt;dbl&gt; | q.mod &lt;dbl&gt; | df.r &lt;int&gt; | df.0 &lt;dbl&gt; | ... ... | Potential.contaminant &lt;lgl&gt; | id &lt;int&gt; | Peptide.IDs &lt;fct&gt; | Peptide.is.razor &lt;fct&gt; | Mod..peptide.IDs &lt;fct&gt; | Evidence.IDs &lt;fct&gt; | MS.MS.IDs &lt;fct&gt; | Best.MS.MS &lt;fct&gt; | Oxidation..M..site.IDs &lt;fct&gt; | Oxidation..M..site.positions &lt;fct&gt; |\n",
       "|---|---|---|---|---|---|---|---|---|---|---|---|---|---|---|---|---|---|---|---|---|---|\n",
       "| 1 | 1 | -0.28758709 | -2.5337682 | -2.6288796 | 0.035049187 | 0.0230930365 | 0.07246915 | 0.053878934 | 8 | 3.23412 | ... | NA | 0 | 6069;8344;8870;13813;19817;31684;39687                                                                  | True;True;True;True;True;True;True                                                        | 6333;8706;9250;9251;14422;20662;33317;41657                                                                   | 17467;17468;24091;25559;25560;25561;25562;25563;25564;25565;25566;25567;40328;56548;56549;87417;87418;109011;109012                                                  | 11890;16386;17364;17365;17366;17367;17368;27682;38853;60572;75514                                                      | 11890;16386;17367;27682;38853;60572;75514                                                                  | 0 | 352 |\n",
       "| 2 | 2 |  0.91848556 |  6.0116684 |  6.5915829 | 0.000319218 | 0.0000353275 | 0.02207679 | 0.007165375 | 8 | 3.23412 | ... | NA | 2 | 8075                                                                                                    | True                                                                                      | 8429                                                                                                          | 23393                                                                                                                                                                | 15915                                                                                                                  | 15915                                                                                                      | <!----> | <!----> |\n",
       "| 3 | 3 |  0.09950036 |  0.5027768 |  0.5680314 | 0.628667647 | 0.5811892017 | 0.35110886 | 0.339813584 | 8 | 3.23412 | ... | NA | 3 | 6875;9957;9997;19846;21301;24900;30715;32041;32245;32685                                                | True;True;True;True;False;True;True;False;False;False                                     | 7170;10392;10433;20691;22201;25922;32320;33686;33896;34344                                                    | 20019;20020;28865;28866;29007;56623;60447;60448;60449;69686;85151;88386;88818;88819;88820;89782;89783;89784                                                          | 13630;13631;19648;19649;19743;38911;41620;41621;41622;48121;59030;61276;61558;61559;62246                              | 13630;19649;19743;38911;41621;48121;59030;61276;61558;62246                                                | <!----> | <!----> |\n",
       "| 4 | 4 |  0.09755184 |  1.3937320 |  1.2307885 | 0.200894847 | 0.2435490916 | 0.18490131 | 0.205969082 | 8 | 3.23412 | ... | NA | 6 | 1341;5441;7396;8665;18925;19306;20141;20260;24903;26528;27066;31648;31649;33617;33718;39443;39997;42480 | True;True;True;True;True;True;True;True;True;True;True;True;True;True;True;True;True;True | 1410;5671;7705;9037;19738;20132;20991;21113;25925;27764;28468;28469;33281;33282;35314;35419;41400;41982;44564 | 4183;15524;21501;24914;54064;55057;57365;57366;57709;57710;69691;74084;74085;74086;74087;75745;75746;75747;75748;87328;87329;92349;92586;108328;108329;109838;116346 | 2828;10467;14620;16921;37137;37807;39463;39709;48126;51198;52392;52393;52394;60515;60516;64010;64168;75031;76093;80639 | 2828;10467;14620;16921;37137;37807;39463;39709;48126;51198;52393;60515;60516;64010;64168;75031;76093;80639 | 2 | 1   |\n",
       "| 5 | 5 |  0.27182456 |  0.9539343 |  1.1040737 | 0.368047785 | 0.2926483213 | 0.25995179 | 0.228082367 | 8 | 3.23412 | ... | NA | 7 | 23613                                                                                                   | True                                                                                      | 24599                                                                                                         | 66471                                                                                                                                                                | 45851                                                                                                                  | 45851                                                                                                      | <!----> | <!----> |\n",
       "| 6 | 6 | -0.02880012 | -0.1558658 | -0.1749278 | 0.880000066 | 0.8642492959 | 0.42060872 | 0.420349396 | 8 | 3.23412 | ... | NA | 8 | 4582                                                                                                    | True                                                                                      | 4779                                                                                                          | 13344                                                                                                                                                                | 8963                                                                                                                   | 8963                                                                                                       | <!----> | <!----> |\n",
       "\n"
      ],
      "text/plain": [
       "  index logFC       t.ord      t.mod      p.ord       p.mod        q.ord     \n",
       "1 1     -0.28758709 -2.5337682 -2.6288796 0.035049187 0.0230930365 0.07246915\n",
       "2 2      0.91848556  6.0116684  6.5915829 0.000319218 0.0000353275 0.02207679\n",
       "3 3      0.09950036  0.5027768  0.5680314 0.628667647 0.5811892017 0.35110886\n",
       "4 4      0.09755184  1.3937320  1.2307885 0.200894847 0.2435490916 0.18490131\n",
       "5 5      0.27182456  0.9539343  1.1040737 0.368047785 0.2926483213 0.25995179\n",
       "6 6     -0.02880012 -0.1558658 -0.1749278 0.880000066 0.8642492959 0.42060872\n",
       "  q.mod       df.r df.0    ... Potential.contaminant id\n",
       "1 0.053878934 8    3.23412 ... NA                    0 \n",
       "2 0.007165375 8    3.23412 ... NA                    2 \n",
       "3 0.339813584 8    3.23412 ... NA                    3 \n",
       "4 0.205969082 8    3.23412 ... NA                    6 \n",
       "5 0.228082367 8    3.23412 ... NA                    7 \n",
       "6 0.420349396 8    3.23412 ... NA                    8 \n",
       "  Peptide.IDs                                                                                            \n",
       "1 6069;8344;8870;13813;19817;31684;39687                                                                 \n",
       "2 8075                                                                                                   \n",
       "3 6875;9957;9997;19846;21301;24900;30715;32041;32245;32685                                               \n",
       "4 1341;5441;7396;8665;18925;19306;20141;20260;24903;26528;27066;31648;31649;33617;33718;39443;39997;42480\n",
       "5 23613                                                                                                  \n",
       "6 4582                                                                                                   \n",
       "  Peptide.is.razor                                                                         \n",
       "1 True;True;True;True;True;True;True                                                       \n",
       "2 True                                                                                     \n",
       "3 True;True;True;True;False;True;True;False;False;False                                    \n",
       "4 True;True;True;True;True;True;True;True;True;True;True;True;True;True;True;True;True;True\n",
       "5 True                                                                                     \n",
       "6 True                                                                                     \n",
       "  Mod..peptide.IDs                                                                                             \n",
       "1 6333;8706;9250;9251;14422;20662;33317;41657                                                                  \n",
       "2 8429                                                                                                         \n",
       "3 7170;10392;10433;20691;22201;25922;32320;33686;33896;34344                                                   \n",
       "4 1410;5671;7705;9037;19738;20132;20991;21113;25925;27764;28468;28469;33281;33282;35314;35419;41400;41982;44564\n",
       "5 24599                                                                                                        \n",
       "6 4779                                                                                                         \n",
       "  Evidence.IDs                                                                                                                                                        \n",
       "1 17467;17468;24091;25559;25560;25561;25562;25563;25564;25565;25566;25567;40328;56548;56549;87417;87418;109011;109012                                                 \n",
       "2 23393                                                                                                                                                               \n",
       "3 20019;20020;28865;28866;29007;56623;60447;60448;60449;69686;85151;88386;88818;88819;88820;89782;89783;89784                                                         \n",
       "4 4183;15524;21501;24914;54064;55057;57365;57366;57709;57710;69691;74084;74085;74086;74087;75745;75746;75747;75748;87328;87329;92349;92586;108328;108329;109838;116346\n",
       "5 66471                                                                                                                                                               \n",
       "6 13344                                                                                                                                                               \n",
       "  MS.MS.IDs                                                                                                             \n",
       "1 11890;16386;17364;17365;17366;17367;17368;27682;38853;60572;75514                                                     \n",
       "2 15915                                                                                                                 \n",
       "3 13630;13631;19648;19649;19743;38911;41620;41621;41622;48121;59030;61276;61558;61559;62246                             \n",
       "4 2828;10467;14620;16921;37137;37807;39463;39709;48126;51198;52392;52393;52394;60515;60516;64010;64168;75031;76093;80639\n",
       "5 45851                                                                                                                 \n",
       "6 8963                                                                                                                  \n",
       "  Best.MS.MS                                                                                                \n",
       "1 11890;16386;17367;27682;38853;60572;75514                                                                 \n",
       "2 15915                                                                                                     \n",
       "3 13630;19649;19743;38911;41621;48121;59030;61276;61558;62246                                               \n",
       "4 2828;10467;14620;16921;37137;37807;39463;39709;48126;51198;52393;60515;60516;64010;64168;75031;76093;80639\n",
       "5 45851                                                                                                     \n",
       "6 8963                                                                                                      \n",
       "  Oxidation..M..site.IDs Oxidation..M..site.positions\n",
       "1 0                      352                         \n",
       "2                                                    \n",
       "3                                                    \n",
       "4 2                      1                           \n",
       "5                                                    \n",
       "6                                                    "
      ]
     },
     "metadata": {},
     "output_type": "display_data"
    }
   ],
   "source": [
    "df_combined <- merge(res.eb, data_raw)\n",
    "\n",
    "head(df_combined)"
   ]
  },
  {
   "cell_type": "code",
   "execution_count": 10,
   "metadata": {},
   "outputs": [
    {
     "data": {
      "text/html": [
       "<table>\n",
       "<caption>A data.frame: 6 × 134</caption>\n",
       "<thead>\n",
       "\t<tr><th></th><th scope=col>index</th><th scope=col>logFC</th><th scope=col>t.ord</th><th scope=col>t.mod</th><th scope=col>p.ord</th><th scope=col>p.mod</th><th scope=col>q.ord</th><th scope=col>q.mod</th><th scope=col>df.r</th><th scope=col>df.0</th><th scope=col>...</th><th scope=col>Potential.contaminant</th><th scope=col>id</th><th scope=col>Peptide.IDs</th><th scope=col>Peptide.is.razor</th><th scope=col>Mod..peptide.IDs</th><th scope=col>Evidence.IDs</th><th scope=col>MS.MS.IDs</th><th scope=col>Best.MS.MS</th><th scope=col>Oxidation..M..site.IDs</th><th scope=col>Oxidation..M..site.positions</th></tr>\n",
       "\t<tr><th></th><th scope=col>&lt;dbl&gt;</th><th scope=col>&lt;dbl&gt;</th><th scope=col>&lt;dbl&gt;</th><th scope=col>&lt;dbl&gt;</th><th scope=col>&lt;dbl&gt;</th><th scope=col>&lt;dbl&gt;</th><th scope=col>&lt;dbl&gt;</th><th scope=col>&lt;dbl&gt;</th><th scope=col>&lt;int&gt;</th><th scope=col>&lt;dbl&gt;</th><th scope=col>...</th><th scope=col>&lt;lgl&gt;</th><th scope=col>&lt;int&gt;</th><th scope=col>&lt;fct&gt;</th><th scope=col>&lt;fct&gt;</th><th scope=col>&lt;fct&gt;</th><th scope=col>&lt;fct&gt;</th><th scope=col>&lt;fct&gt;</th><th scope=col>&lt;fct&gt;</th><th scope=col>&lt;fct&gt;</th><th scope=col>&lt;fct&gt;</th></tr>\n",
       "</thead>\n",
       "<tbody>\n",
       "\t<tr><th scope=row>1</th><td>1</td><td>-0.28758709</td><td>-2.5337682</td><td>-2.6288796</td><td>0.035049187</td><td>0.0230930365</td><td>0.07246915</td><td>0.053878934</td><td>8</td><td>3.23412</td><td>...</td><td>NA</td><td>0</td><td>6069;8344;8870;13813;19817;31684;39687                                                                 </td><td>True;True;True;True;True;True;True                                                       </td><td>6333;8706;9250;9251;14422;20662;33317;41657                                                                  </td><td>17467;17468;24091;25559;25560;25561;25562;25563;25564;25565;25566;25567;40328;56548;56549;87417;87418;109011;109012                                                 </td><td>11890;16386;17364;17365;17366;17367;17368;27682;38853;60572;75514                                                     </td><td>11890;16386;17367;27682;38853;60572;75514                                                                 </td><td>0</td><td>352</td></tr>\n",
       "\t<tr><th scope=row>2</th><td>2</td><td> 0.91848556</td><td> 6.0116684</td><td> 6.5915829</td><td>0.000319218</td><td>0.0000353275</td><td>0.02207679</td><td>0.007165375</td><td>8</td><td>3.23412</td><td>...</td><td>NA</td><td>2</td><td>8075                                                                                                   </td><td>True                                                                                     </td><td>8429                                                                                                         </td><td>23393                                                                                                                                                               </td><td>15915                                                                                                                 </td><td>15915                                                                                                     </td><td> </td><td>   </td></tr>\n",
       "\t<tr><th scope=row>3</th><td>3</td><td> 0.09950036</td><td> 0.5027768</td><td> 0.5680314</td><td>0.628667647</td><td>0.5811892017</td><td>0.35110886</td><td>0.339813584</td><td>8</td><td>3.23412</td><td>...</td><td>NA</td><td>3</td><td>6875;9957;9997;19846;21301;24900;30715;32041;32245;32685                                               </td><td>True;True;True;True;False;True;True;False;False;False                                    </td><td>7170;10392;10433;20691;22201;25922;32320;33686;33896;34344                                                   </td><td>20019;20020;28865;28866;29007;56623;60447;60448;60449;69686;85151;88386;88818;88819;88820;89782;89783;89784                                                         </td><td>13630;13631;19648;19649;19743;38911;41620;41621;41622;48121;59030;61276;61558;61559;62246                             </td><td>13630;19649;19743;38911;41621;48121;59030;61276;61558;62246                                               </td><td> </td><td>   </td></tr>\n",
       "\t<tr><th scope=row>4</th><td>4</td><td> 0.09755184</td><td> 1.3937320</td><td> 1.2307885</td><td>0.200894847</td><td>0.2435490916</td><td>0.18490131</td><td>0.205969082</td><td>8</td><td>3.23412</td><td>...</td><td>NA</td><td>6</td><td>1341;5441;7396;8665;18925;19306;20141;20260;24903;26528;27066;31648;31649;33617;33718;39443;39997;42480</td><td>True;True;True;True;True;True;True;True;True;True;True;True;True;True;True;True;True;True</td><td>1410;5671;7705;9037;19738;20132;20991;21113;25925;27764;28468;28469;33281;33282;35314;35419;41400;41982;44564</td><td>4183;15524;21501;24914;54064;55057;57365;57366;57709;57710;69691;74084;74085;74086;74087;75745;75746;75747;75748;87328;87329;92349;92586;108328;108329;109838;116346</td><td>2828;10467;14620;16921;37137;37807;39463;39709;48126;51198;52392;52393;52394;60515;60516;64010;64168;75031;76093;80639</td><td>2828;10467;14620;16921;37137;37807;39463;39709;48126;51198;52393;60515;60516;64010;64168;75031;76093;80639</td><td>2</td><td>1  </td></tr>\n",
       "\t<tr><th scope=row>5</th><td>5</td><td> 0.27182456</td><td> 0.9539343</td><td> 1.1040737</td><td>0.368047785</td><td>0.2926483213</td><td>0.25995179</td><td>0.228082367</td><td>8</td><td>3.23412</td><td>...</td><td>NA</td><td>7</td><td>23613                                                                                                  </td><td>True                                                                                     </td><td>24599                                                                                                        </td><td>66471                                                                                                                                                               </td><td>45851                                                                                                                 </td><td>45851                                                                                                     </td><td> </td><td>   </td></tr>\n",
       "\t<tr><th scope=row>6</th><td>6</td><td>-0.02880012</td><td>-0.1558658</td><td>-0.1749278</td><td>0.880000066</td><td>0.8642492959</td><td>0.42060872</td><td>0.420349396</td><td>8</td><td>3.23412</td><td>...</td><td>NA</td><td>8</td><td>4582                                                                                                   </td><td>True                                                                                     </td><td>4779                                                                                                         </td><td>13344                                                                                                                                                               </td><td>8963                                                                                                                  </td><td>8963                                                                                                      </td><td> </td><td>   </td></tr>\n",
       "</tbody>\n",
       "</table>\n"
      ],
      "text/latex": [
       "A data.frame: 6 × 134\n",
       "\\begin{tabular}{r|lllllllllllllllllllll}\n",
       "  & index & logFC & t.ord & t.mod & p.ord & p.mod & q.ord & q.mod & df.r & df.0 & ... & Potential.contaminant & id & Peptide.IDs & Peptide.is.razor & Mod..peptide.IDs & Evidence.IDs & MS.MS.IDs & Best.MS.MS & Oxidation..M..site.IDs & Oxidation..M..site.positions\\\\\n",
       "  & <dbl> & <dbl> & <dbl> & <dbl> & <dbl> & <dbl> & <dbl> & <dbl> & <int> & <dbl> & ... & <lgl> & <int> & <fct> & <fct> & <fct> & <fct> & <fct> & <fct> & <fct> & <fct>\\\\\n",
       "\\hline\n",
       "\t1 & 1 & -0.28758709 & -2.5337682 & -2.6288796 & 0.035049187 & 0.0230930365 & 0.07246915 & 0.053878934 & 8 & 3.23412 & ... & NA & 0 & 6069;8344;8870;13813;19817;31684;39687                                                                  & True;True;True;True;True;True;True                                                        & 6333;8706;9250;9251;14422;20662;33317;41657                                                                   & 17467;17468;24091;25559;25560;25561;25562;25563;25564;25565;25566;25567;40328;56548;56549;87417;87418;109011;109012                                                  & 11890;16386;17364;17365;17366;17367;17368;27682;38853;60572;75514                                                      & 11890;16386;17367;27682;38853;60572;75514                                                                  & 0 & 352\\\\\n",
       "\t2 & 2 &  0.91848556 &  6.0116684 &  6.5915829 & 0.000319218 & 0.0000353275 & 0.02207679 & 0.007165375 & 8 & 3.23412 & ... & NA & 2 & 8075                                                                                                    & True                                                                                      & 8429                                                                                                          & 23393                                                                                                                                                                & 15915                                                                                                                  & 15915                                                                                                      &   &    \\\\\n",
       "\t3 & 3 &  0.09950036 &  0.5027768 &  0.5680314 & 0.628667647 & 0.5811892017 & 0.35110886 & 0.339813584 & 8 & 3.23412 & ... & NA & 3 & 6875;9957;9997;19846;21301;24900;30715;32041;32245;32685                                                & True;True;True;True;False;True;True;False;False;False                                     & 7170;10392;10433;20691;22201;25922;32320;33686;33896;34344                                                    & 20019;20020;28865;28866;29007;56623;60447;60448;60449;69686;85151;88386;88818;88819;88820;89782;89783;89784                                                          & 13630;13631;19648;19649;19743;38911;41620;41621;41622;48121;59030;61276;61558;61559;62246                              & 13630;19649;19743;38911;41621;48121;59030;61276;61558;62246                                                &   &    \\\\\n",
       "\t4 & 4 &  0.09755184 &  1.3937320 &  1.2307885 & 0.200894847 & 0.2435490916 & 0.18490131 & 0.205969082 & 8 & 3.23412 & ... & NA & 6 & 1341;5441;7396;8665;18925;19306;20141;20260;24903;26528;27066;31648;31649;33617;33718;39443;39997;42480 & True;True;True;True;True;True;True;True;True;True;True;True;True;True;True;True;True;True & 1410;5671;7705;9037;19738;20132;20991;21113;25925;27764;28468;28469;33281;33282;35314;35419;41400;41982;44564 & 4183;15524;21501;24914;54064;55057;57365;57366;57709;57710;69691;74084;74085;74086;74087;75745;75746;75747;75748;87328;87329;92349;92586;108328;108329;109838;116346 & 2828;10467;14620;16921;37137;37807;39463;39709;48126;51198;52392;52393;52394;60515;60516;64010;64168;75031;76093;80639 & 2828;10467;14620;16921;37137;37807;39463;39709;48126;51198;52393;60515;60516;64010;64168;75031;76093;80639 & 2 & 1  \\\\\n",
       "\t5 & 5 &  0.27182456 &  0.9539343 &  1.1040737 & 0.368047785 & 0.2926483213 & 0.25995179 & 0.228082367 & 8 & 3.23412 & ... & NA & 7 & 23613                                                                                                   & True                                                                                      & 24599                                                                                                         & 66471                                                                                                                                                                & 45851                                                                                                                  & 45851                                                                                                      &   &    \\\\\n",
       "\t6 & 6 & -0.02880012 & -0.1558658 & -0.1749278 & 0.880000066 & 0.8642492959 & 0.42060872 & 0.420349396 & 8 & 3.23412 & ... & NA & 8 & 4582                                                                                                    & True                                                                                      & 4779                                                                                                          & 13344                                                                                                                                                                & 8963                                                                                                                   & 8963                                                                                                       &   &    \\\\\n",
       "\\end{tabular}\n"
      ],
      "text/markdown": [
       "\n",
       "A data.frame: 6 × 134\n",
       "\n",
       "| <!--/--> | index &lt;dbl&gt; | logFC &lt;dbl&gt; | t.ord &lt;dbl&gt; | t.mod &lt;dbl&gt; | p.ord &lt;dbl&gt; | p.mod &lt;dbl&gt; | q.ord &lt;dbl&gt; | q.mod &lt;dbl&gt; | df.r &lt;int&gt; | df.0 &lt;dbl&gt; | ... ... | Potential.contaminant &lt;lgl&gt; | id &lt;int&gt; | Peptide.IDs &lt;fct&gt; | Peptide.is.razor &lt;fct&gt; | Mod..peptide.IDs &lt;fct&gt; | Evidence.IDs &lt;fct&gt; | MS.MS.IDs &lt;fct&gt; | Best.MS.MS &lt;fct&gt; | Oxidation..M..site.IDs &lt;fct&gt; | Oxidation..M..site.positions &lt;fct&gt; |\n",
       "|---|---|---|---|---|---|---|---|---|---|---|---|---|---|---|---|---|---|---|---|---|---|\n",
       "| 1 | 1 | -0.28758709 | -2.5337682 | -2.6288796 | 0.035049187 | 0.0230930365 | 0.07246915 | 0.053878934 | 8 | 3.23412 | ... | NA | 0 | 6069;8344;8870;13813;19817;31684;39687                                                                  | True;True;True;True;True;True;True                                                        | 6333;8706;9250;9251;14422;20662;33317;41657                                                                   | 17467;17468;24091;25559;25560;25561;25562;25563;25564;25565;25566;25567;40328;56548;56549;87417;87418;109011;109012                                                  | 11890;16386;17364;17365;17366;17367;17368;27682;38853;60572;75514                                                      | 11890;16386;17367;27682;38853;60572;75514                                                                  | 0 | 352 |\n",
       "| 2 | 2 |  0.91848556 |  6.0116684 |  6.5915829 | 0.000319218 | 0.0000353275 | 0.02207679 | 0.007165375 | 8 | 3.23412 | ... | NA | 2 | 8075                                                                                                    | True                                                                                      | 8429                                                                                                          | 23393                                                                                                                                                                | 15915                                                                                                                  | 15915                                                                                                      | <!----> | <!----> |\n",
       "| 3 | 3 |  0.09950036 |  0.5027768 |  0.5680314 | 0.628667647 | 0.5811892017 | 0.35110886 | 0.339813584 | 8 | 3.23412 | ... | NA | 3 | 6875;9957;9997;19846;21301;24900;30715;32041;32245;32685                                                | True;True;True;True;False;True;True;False;False;False                                     | 7170;10392;10433;20691;22201;25922;32320;33686;33896;34344                                                    | 20019;20020;28865;28866;29007;56623;60447;60448;60449;69686;85151;88386;88818;88819;88820;89782;89783;89784                                                          | 13630;13631;19648;19649;19743;38911;41620;41621;41622;48121;59030;61276;61558;61559;62246                              | 13630;19649;19743;38911;41621;48121;59030;61276;61558;62246                                                | <!----> | <!----> |\n",
       "| 4 | 4 |  0.09755184 |  1.3937320 |  1.2307885 | 0.200894847 | 0.2435490916 | 0.18490131 | 0.205969082 | 8 | 3.23412 | ... | NA | 6 | 1341;5441;7396;8665;18925;19306;20141;20260;24903;26528;27066;31648;31649;33617;33718;39443;39997;42480 | True;True;True;True;True;True;True;True;True;True;True;True;True;True;True;True;True;True | 1410;5671;7705;9037;19738;20132;20991;21113;25925;27764;28468;28469;33281;33282;35314;35419;41400;41982;44564 | 4183;15524;21501;24914;54064;55057;57365;57366;57709;57710;69691;74084;74085;74086;74087;75745;75746;75747;75748;87328;87329;92349;92586;108328;108329;109838;116346 | 2828;10467;14620;16921;37137;37807;39463;39709;48126;51198;52392;52393;52394;60515;60516;64010;64168;75031;76093;80639 | 2828;10467;14620;16921;37137;37807;39463;39709;48126;51198;52393;60515;60516;64010;64168;75031;76093;80639 | 2 | 1   |\n",
       "| 5 | 5 |  0.27182456 |  0.9539343 |  1.1040737 | 0.368047785 | 0.2926483213 | 0.25995179 | 0.228082367 | 8 | 3.23412 | ... | NA | 7 | 23613                                                                                                   | True                                                                                      | 24599                                                                                                         | 66471                                                                                                                                                                | 45851                                                                                                                  | 45851                                                                                                      | <!----> | <!----> |\n",
       "| 6 | 6 | -0.02880012 | -0.1558658 | -0.1749278 | 0.880000066 | 0.8642492959 | 0.42060872 | 0.420349396 | 8 | 3.23412 | ... | NA | 8 | 4582                                                                                                    | True                                                                                      | 4779                                                                                                          | 13344                                                                                                                                                                | 8963                                                                                                                   | 8963                                                                                                       | <!----> | <!----> |\n",
       "\n"
      ],
      "text/plain": [
       "  index logFC       t.ord      t.mod      p.ord       p.mod        q.ord     \n",
       "1 1     -0.28758709 -2.5337682 -2.6288796 0.035049187 0.0230930365 0.07246915\n",
       "2 2      0.91848556  6.0116684  6.5915829 0.000319218 0.0000353275 0.02207679\n",
       "3 3      0.09950036  0.5027768  0.5680314 0.628667647 0.5811892017 0.35110886\n",
       "4 4      0.09755184  1.3937320  1.2307885 0.200894847 0.2435490916 0.18490131\n",
       "5 5      0.27182456  0.9539343  1.1040737 0.368047785 0.2926483213 0.25995179\n",
       "6 6     -0.02880012 -0.1558658 -0.1749278 0.880000066 0.8642492959 0.42060872\n",
       "  q.mod       df.r df.0    ... Potential.contaminant id\n",
       "1 0.053878934 8    3.23412 ... NA                    0 \n",
       "2 0.007165375 8    3.23412 ... NA                    2 \n",
       "3 0.339813584 8    3.23412 ... NA                    3 \n",
       "4 0.205969082 8    3.23412 ... NA                    6 \n",
       "5 0.228082367 8    3.23412 ... NA                    7 \n",
       "6 0.420349396 8    3.23412 ... NA                    8 \n",
       "  Peptide.IDs                                                                                            \n",
       "1 6069;8344;8870;13813;19817;31684;39687                                                                 \n",
       "2 8075                                                                                                   \n",
       "3 6875;9957;9997;19846;21301;24900;30715;32041;32245;32685                                               \n",
       "4 1341;5441;7396;8665;18925;19306;20141;20260;24903;26528;27066;31648;31649;33617;33718;39443;39997;42480\n",
       "5 23613                                                                                                  \n",
       "6 4582                                                                                                   \n",
       "  Peptide.is.razor                                                                         \n",
       "1 True;True;True;True;True;True;True                                                       \n",
       "2 True                                                                                     \n",
       "3 True;True;True;True;False;True;True;False;False;False                                    \n",
       "4 True;True;True;True;True;True;True;True;True;True;True;True;True;True;True;True;True;True\n",
       "5 True                                                                                     \n",
       "6 True                                                                                     \n",
       "  Mod..peptide.IDs                                                                                             \n",
       "1 6333;8706;9250;9251;14422;20662;33317;41657                                                                  \n",
       "2 8429                                                                                                         \n",
       "3 7170;10392;10433;20691;22201;25922;32320;33686;33896;34344                                                   \n",
       "4 1410;5671;7705;9037;19738;20132;20991;21113;25925;27764;28468;28469;33281;33282;35314;35419;41400;41982;44564\n",
       "5 24599                                                                                                        \n",
       "6 4779                                                                                                         \n",
       "  Evidence.IDs                                                                                                                                                        \n",
       "1 17467;17468;24091;25559;25560;25561;25562;25563;25564;25565;25566;25567;40328;56548;56549;87417;87418;109011;109012                                                 \n",
       "2 23393                                                                                                                                                               \n",
       "3 20019;20020;28865;28866;29007;56623;60447;60448;60449;69686;85151;88386;88818;88819;88820;89782;89783;89784                                                         \n",
       "4 4183;15524;21501;24914;54064;55057;57365;57366;57709;57710;69691;74084;74085;74086;74087;75745;75746;75747;75748;87328;87329;92349;92586;108328;108329;109838;116346\n",
       "5 66471                                                                                                                                                               \n",
       "6 13344                                                                                                                                                               \n",
       "  MS.MS.IDs                                                                                                             \n",
       "1 11890;16386;17364;17365;17366;17367;17368;27682;38853;60572;75514                                                     \n",
       "2 15915                                                                                                                 \n",
       "3 13630;13631;19648;19649;19743;38911;41620;41621;41622;48121;59030;61276;61558;61559;62246                             \n",
       "4 2828;10467;14620;16921;37137;37807;39463;39709;48126;51198;52392;52393;52394;60515;60516;64010;64168;75031;76093;80639\n",
       "5 45851                                                                                                                 \n",
       "6 8963                                                                                                                  \n",
       "  Best.MS.MS                                                                                                \n",
       "1 11890;16386;17367;27682;38853;60572;75514                                                                 \n",
       "2 15915                                                                                                     \n",
       "3 13630;19649;19743;38911;41621;48121;59030;61276;61558;62246                                               \n",
       "4 2828;10467;14620;16921;37137;37807;39463;39709;48126;51198;52393;60515;60516;64010;64168;75031;76093;80639\n",
       "5 45851                                                                                                     \n",
       "6 8963                                                                                                      \n",
       "  Oxidation..M..site.IDs Oxidation..M..site.positions\n",
       "1 0                      352                         \n",
       "2                                                    \n",
       "3                                                    \n",
       "4 2                      1                           \n",
       "5                                                    \n",
       "6                                                    "
      ]
     },
     "metadata": {},
     "output_type": "display_data"
    }
   ],
   "source": [
    "head(df_combined)"
   ]
  },
  {
   "cell_type": "markdown",
   "metadata": {},
   "source": [
    "## Save combined dataframe as csv file"
   ]
  },
  {
   "cell_type": "code",
   "execution_count": 11,
   "metadata": {},
   "outputs": [
    {
     "name": "stderr",
     "output_type": "stream",
     "text": [
      "Warning message in write.csv(df_combined, file = path_output, row.names = FALSE, :\n",
      "\"attempt to set 'col.names' ignored\"\n"
     ]
    }
   ],
   "source": [
    "path_output <- paste(str_replace(path_input, \".csv\", \"\"), \"_empBayes_pvals.csv\")\n",
    "write.csv(df_combined, file=path_output, row.names=FALSE, col.names=TRUE)"
   ]
  },
  {
   "cell_type": "code",
   "execution_count": null,
   "metadata": {},
   "outputs": [],
   "source": []
  }
 ],
 "metadata": {
  "kernelspec": {
   "display_name": "R",
   "language": "R",
   "name": "ir"
  },
  "language_info": {
   "codemirror_mode": "r",
   "file_extension": ".r",
   "mimetype": "text/x-r-source",
   "name": "R",
   "pygments_lexer": "r",
   "version": "3.6.2"
  }
 },
 "nbformat": 4,
 "nbformat_minor": 4
}
